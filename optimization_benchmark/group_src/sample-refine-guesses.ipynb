{
 "cells": [
  {
   "cell_type": "code",
   "execution_count": 1,
   "metadata": {},
   "outputs": [],
   "source": [
    "#load benchmarks problems\n",
    "\n",
    "import numpy as np\n",
    "\n",
    "eqc = np.load('eqcS.npy',allow_pickle=True).item() \n",
    "class prb:   #this will be your black box function\n",
    "    def __init__(self,prob,noisy_level):\n",
    "        # function for generating data\n",
    "        self.func=prob['func']\n",
    "        # number of constraints\n",
    "        self.n_con=prob['n_con']\n",
    "        # noise level\n",
    "        self.nl=noisy_level\n",
    "        # constraints\n",
    "        self.con=[]\n",
    "        for i in range(self.n_con):\n",
    "            self.con.append(prob['con'+str(i+1)])\n",
    "    def datcol(self,x):\n",
    "        try:\n",
    "            # eval takes string type input and evaluates python code. Input can be\n",
    "            #a mathematical function or a python function which will be called.\n",
    "            y = eval(self.func)\n",
    "        except:\n",
    "            x = np.array([x])\n",
    "            y = eval(self.func)\n",
    "        return float(y)\n",
    "    def constraint(self,x):\n",
    "        # Appears to evaluate if the constraints are satisfied\n",
    "        #returns 1 if all constraints are satisfied, else -1\n",
    "        try:     \n",
    "            m,n=np.shape(x)\n",
    "        except:\n",
    "            x = np.array([x])\n",
    "            m,n=np.shape(x)\n",
    "        y=np.empty((self.n_con))\n",
    "        for i in range(self.n_con):\n",
    "            y[i]=eval(self.con[i])     \n",
    "        if y.all() == 1.:\n",
    "            label = 1.\n",
    "        else:\n",
    "            label = -1.\n",
    "        return label\n",
    "    \n",
    "bcp=np.load('bcp8.npy',allow_pickle=True).item()\n",
    "\n",
    "class benchmark:\n",
    "    def __init__(self,func,noisy_level):\n",
    "        self.func = str(func)\n",
    "        self.nl = noisy_level\n",
    "    def datcol(self,x):\n",
    "        try:\n",
    "            y = eval(self.func)\n",
    "        except:\n",
    "            x = np.array([x])\n",
    "            y = eval(self.func)\n",
    "        return float(y)"
   ]
  },
  {
   "attachments": {},
   "cell_type": "markdown",
   "metadata": {},
   "source": [
    "# Helper functions from Lucas"
   ]
  },
  {
   "cell_type": "code",
   "execution_count": 2,
   "metadata": {},
   "outputs": [],
   "source": [
    "# Find and replace function for editing function strings\n",
    "def multiple_replace(_string:str, find_replace:list):\n",
    "    new_string = _string\n",
    "    for find,replace in find_replace:\n",
    "        new_string = new_string.replace(find,replace)\n",
    "    return new_string\n",
    "\n",
    "# Create usable form of the function to pass to optimizers\n",
    "def get_usable_fxn(dimension: int, fxn_form: str):\n",
    "    find_rep_list = [('x[:,{}]'.format(dimension-1-i),'x[\"{}\"]'.format(dimension-1-i)) for i in range(dimension)]\n",
    "    opt_form = multiple_replace(fxn_form, find_rep_list)\n",
    "    return opt_form\n",
    "\n",
    "# Create search space\n",
    "def create_search_space(dimension: int, xlb: list, xub: list, resolution: int = 100):\n",
    "    search_space = {str(i):np.linspace(xlb[i],xub[i],resolution) for i in range(dimension)}\n",
    "    return search_space\n",
    "\n",
    "# Create a container for objective function - need to use eval to evaluate string version of function, but can't pass that\n",
    "#directly to optimizer - there is probably a better way to do this, possibly using wrappers. Not worth time right now.\n",
    "def create_parent_fxn(search_space,opt_form):\n",
    "    search_space = search_space\n",
    "    opt_form = opt_form\n",
    "    def objective_fxn(search_space):\n",
    "        #clear_output(wait=True)\n",
    "        x = search_space\n",
    "        return -1*eval(opt_form)\n",
    "    return objective_fxn"
   ]
  },
  {
   "attachments": {},
   "cell_type": "markdown",
   "metadata": {},
   "source": [
    "# Additional Helper Functions"
   ]
  },
  {
   "cell_type": "code",
   "execution_count": 3,
   "metadata": {},
   "outputs": [],
   "source": [
    "def get_valid_problems(names):\n",
    "    \"\"\" \n",
    "    Some provided solutions may be invalid. This function returns valid/invalid solutions\n",
    "    \"\"\"\n",
    "\n",
    "    valid_problems = []\n",
    "    invalid_problems = []\n",
    "    for name in names: \n",
    "        dims = bcp[f'{name}']['n']\n",
    "        try:\n",
    "            assert len(bcp[f'{name}']['xub']) == dims and len(bcp[f'{name}']['xlb']) == dims\n",
    "            assert len(bcp[f'{name}']['xopt']) == dims \n",
    "            valid_problems.append(name)\n",
    "        except:\n",
    "            invalid_problems.append(name)\n",
    "            continue\n",
    "\n",
    "    print(f\"There are {len(valid_problems)} valid problems and {len(invalid_problems)} invalid problems\")\n",
    "    \n",
    "    return valid_problems, invalid_problems\n",
    "\n",
    "def get_perturbed_solutions(test_fxn):\n",
    "\n",
    "    \"\"\"\n",
    "    Returns perturbed optimal solutions for a given input problem \n",
    "    \"\"\"\n",
    "\n",
    "    dims = test_fxn['n']\n",
    "    perturbed_solutions = []\n",
    "\n",
    "    for dim in range(dims):\n",
    "        opt = test_fxn['xopt'][dim]       \n",
    "        perturbation = np.random.uniform(-5, 5) / 100\n",
    "        if opt != 0.0: perturbed_solution = np.array([opt + opt*perturbation])\n",
    "        else: perturbed_solution = np.array([perturbation])\n",
    "        perturbed_solutions.append(perturbed_solution)\n",
    "\n",
    "    return np.concatenate(perturbed_solutions)\n",
    "\n",
    "def get_all_initial_guesses(names):\n",
    "\n",
    "    \"\"\"\n",
    "    Returns perturbed initial guesses for all valid problems as a list of dicts\n",
    "    \"\"\"\n",
    "\n",
    "    valid_problems, invalid_problems = get_valid_problems(names)\n",
    "    all_initial_guesses = []\n",
    "\n",
    "    for problem in valid_problems:\n",
    "        test_fxn = bcp[f'{problem}']\n",
    "        dims = test_fxn['n']\n",
    "        perturbed_solution = get_perturbed_solutions(test_fxn).astype(float)\n",
    "        optimal_solution = test_fxn['xopt'].astype(float)\n",
    "        percent_diff = np.divide(abs(perturbed_solution - optimal_solution), abs(optimal_solution), \n",
    "                                out=np.zeros_like(optimal_solution), where=optimal_solution!=0) * 100.0\n",
    "        assert max(percent_diff) <= 5 # we sampled perturbations from uniform(-5,5)\n",
    "        assert len(perturbed_solution) == dims\n",
    "\n",
    "        initial_guess = {str(i):perturbed_solution[i] for i in range(dims)}\n",
    "        all_initial_guesses.append(initial_guess)\n",
    "\n",
    "    return all_initial_guesses, valid_problems, invalid_problems\n",
    "\n",
    "\n",
    "def get_solutions(problems, solvers, all_initial_guesses):\n",
    "\n",
    "    names = list(bcp.keys())\n",
    "    final_solns = {}\n",
    "\n",
    "    for problem in problems:\n",
    "\n",
    "        test_fxn = bcp[f'{problem}']\n",
    "        fxn_form = test_fxn['func']\n",
    "        xlb = test_fxn['xlb']\n",
    "        xub = test_fxn['xub']\n",
    "        ndim = test_fxn['n']\n",
    "\n",
    "        opt_form = get_usable_fxn(ndim, fxn_form)\n",
    "        search_space = create_search_space(ndim, xlb, xub, resolution=100)\n",
    "        fxn = create_parent_fxn(search_space,opt_form)\n",
    "\n",
    "        initial_guess = all_initial_guesses[names.index(f'{problem}')]\n",
    "        initialize={\"warm_start\":[initial_guess]}\n",
    "\n",
    "        optimum = {}\n",
    "        for f in solvers:\n",
    "            opt = f(search_space) # initialize optimizer\n",
    "            opt.search(fxn, n_iter=2500) # run optimizer\n",
    "            #opt.search_data.to_csv('./{}.txt'.format(f.__name__), sep='\\t', index=False)\n",
    "            #optimum[f.__name__] = (-1*opt.best_score, opt.best_para)\n",
    "            optimum[f.__name__] = opt.best_para\n",
    "\n",
    "        opts = ['Solver\\tOptimum']\n",
    "        for i in optimum.keys():\n",
    "            tmp_opt = optimum[i]\n",
    "            opts += ['{}\\t{}'.format(i,tmp_opt)]\n",
    "        with open(f'{problem}-refinement.txt', 'w') as f:\n",
    "            print('\\n'.join(opts),file=f)\n",
    "\n",
    "        final_solns[f'{problem}'] = optimum\n",
    "\n",
    "    return final_solns\n",
    "\n",
    "\n",
    "def get_solver_names(solvers):\n",
    "\n",
    "    \"\"\" \n",
    "    Function to process strings of solvers\n",
    "    \"\"\"\n",
    "\n",
    "    solver_names = []\n",
    "    for i in range(len(solvers)):\n",
    "        solver_name = str(solvers[i])\n",
    "        # All solver names are after 4th \".\" \n",
    "        idx = solver_name.find(\".\", solver_name.find(\".\", solver_name.find(\".\", solver_name.find(\".\") + 1) + 1) + 1)\n",
    "\n",
    "        # Select the substring after the 4th dot\n",
    "        solver_name = solver_name[idx+1:]\n",
    "        solver_name = solver_name.replace(\"'\", \"\")\n",
    "        solver_name = solver_name.replace(\">\", \"\")\n",
    "        solver_names.append(solver_name)\n",
    "    \n",
    "    return solver_names\n",
    "\n",
    "def get_maes(problems, solver_names, solver_solutions):\n",
    "\n",
    "    \"\"\"\n",
    "    Get MAEs for a list of specified problems, ground truth solutions, and solution obtained\n",
    "    by a list of solvers\n",
    "    \"\"\"\n",
    "    from sklearn.metrics import mean_absolute_error\n",
    "\n",
    "    maes = {}\n",
    "\n",
    "    for solver_name in solver_names:\n",
    "        solver_opts = [v[f'{solver_name}'] for v in solver_solutions.values()]\n",
    "        true_opts = [bcp[f'{problem}']['yopt'] for problem in problems]\n",
    "        mae = mean_absolute_error(solver_opts, true_opts)\n",
    "        maes[f'{solver_name}'] = mae\n",
    "\n",
    "    return maes\n",
    "\n",
    "def create_function(problem_idx, func_string, valid_problems, invalid_problems):\n",
    "    \"\"\"\n",
    "    This could be a duplicate of Lucas' function? Doesn't seem like it but TOCHECK\n",
    "    \"\"\"\n",
    "    filtered_bcp = {key: value for key, value in bcp.items() if not any(s in key for s in invalid_problems)}\n",
    "\n",
    "    for i in range(len(filtered_bcp[valid_problems[problem_idx]]['xopt'])):\n",
    "        func_string = func_string.replace(f\"x[:,{i}]\",f\"x[{str(i)}]\")\n",
    "\n",
    "    function_def = \"def problem_function(x):\\n    return \" + func_string\n",
    "    exec(function_def, globals())\n",
    "\n",
    "    return globals()['problem_function']\n",
    "\n",
    "def get_x_values(initial_guesses):\n",
    "    x = []\n",
    "    for value in initial_guesses.values():\n",
    "        x.append(value)\n",
    "    return x\n",
    "\n",
    "def evaluate_refinement(problems, solver_names, all_initial_guesses, solver_solutions, valid_problems, invalid_problems, taus):\n",
    "\n",
    "    filtered_bcp = {key: value for key, value in bcp.items() if not any(s in key for s in invalid_problems)}\n",
    "\n",
    "    for problem in problems:\n",
    "        for solver in solver_names:          \n",
    "            func_string = filtered_bcp[problem]['func'] \n",
    "            problem_idx = list(filtered_bcp.keys()).index(problem)\n",
    "            initial_guesses = all_initial_guesses[problem_idx]\n",
    "            initial_guesses  = get_x_values(initial_guesses)\n",
    "            problem_function = create_function(problem_idx, func_string, valid_problems, invalid_problems)\n",
    "            f_x0 = problem_function(initial_guesses)\n",
    "            solver_output = solver_solutions[problem][solver]\n",
    "            solver_output  = get_x_values(solver_output)\n",
    "            f_solver = problem_function(solver_output)\n",
    "            f_L = filtered_bcp[problem]['yopt']\n",
    "\n",
    "            success = []\n",
    "\n",
    "            for j in range(len(taus)):\n",
    "                try:\n",
    "                    assert f_x0 - f_solver >= (1 - taus[j])*(f_x0 - f_L)\n",
    "                    success.append(\"successful\")\n",
    "                except:\n",
    "                    success.append(\"not successful\")\n",
    "                    pass\n",
    "\n",
    "            solver_solutions[problem][solver] = success\n",
    "    \n",
    "    return solver_solutions\n",
    "\n",
    "def get_plot_dict(problems, solver_solutions, solver_names, taus):\n",
    "    # New dictionary more intuitive in ordering \n",
    "    # Note to self: This is ugly ugly ugly code\n",
    "    solver_solutions_inverted = {}\n",
    "\n",
    "    for outer_key, inner_dict in solver_solutions.items():\n",
    "        for inner_key, value in inner_dict.items():\n",
    "            if inner_key not in solver_solutions_inverted:\n",
    "                solver_solutions_inverted[inner_key] = {}\n",
    "            solver_solutions_inverted[inner_key][outer_key] = value\n",
    "\n",
    "    solver_solutions = solver_solutions_inverted \n",
    "    plot_dict = {}\n",
    "\n",
    "    for solver in solver_names:\n",
    "        num_successfuls = [0] * len(taus)\n",
    "        for inner_list in solver_solutions[solver].values():\n",
    "            for i, value in enumerate(inner_list):\n",
    "                if value == 'successful':\n",
    "                    num_successfuls[i] += 1\n",
    "\n",
    "        fraction = [x / len(problems) for x in num_successfuls]\n",
    "        plot_dict[solver] = fraction\n",
    "\n",
    "    return plot_dict"
   ]
  },
  {
   "attachments": {},
   "cell_type": "markdown",
   "metadata": {},
   "source": [
    "# Refinement Ability (Objective 3)"
   ]
  },
  {
   "attachments": {},
   "cell_type": "markdown",
   "metadata": {},
   "source": [
    "Note: There are several changes that could be made to improve elegance and modularity. But with deadline approaching I'd just leave it as it is. I believe there are also some irregularities in the data files in terms of the initial guesses since my code works perfectly fine for a subset of problems and gives issues for others. "
   ]
  },
  {
   "cell_type": "code",
   "execution_count": 4,
   "metadata": {},
   "outputs": [
    {
     "name": "stdout",
     "output_type": "stream",
     "text": [
      "There are 263 valid problems and 2 invalid problems\n"
     ]
    },
    {
     "name": "stderr",
     "output_type": "stream",
     "text": [
      "                                                                                                                          \r"
     ]
    },
    {
     "name": "stdout",
     "output_type": "stream",
     "text": [
      "\n",
      "Results: 'objective_fxn'  \n",
      "   Best score: -5.1015202530356945e-05  \n",
      "   Best parameter:\n",
      "      '0' : 5.005050505050505  \n",
      "      '1' : 5.005050505050505  \n",
      " \n",
      "   Random seed: 2029456263  \n",
      " \n",
      "   Evaluation time   : 0.052764892578125 sec    [32.45 %]\n",
      "   Optimization time : 0.10984110832214355 sec    [67.55 %]\n",
      "   Iteration time    : 0.16260600090026855 sec    [15374.59 iter/sec]\n",
      " \n"
     ]
    },
    {
     "name": "stderr",
     "output_type": "stream",
     "text": [
      "                                                                                                                         \r"
     ]
    },
    {
     "name": "stdout",
     "output_type": "stream",
     "text": [
      "\n",
      "Results: 'objective_fxn'  \n",
      "   Best score: -5.1015202530356945e-05  \n",
      "   Best parameter:\n",
      "      '0' : 4.994949494949495  \n",
      "      '1' : 5.005050505050505  \n",
      " \n",
      "   Random seed: 1951232841  \n",
      " \n",
      "   Evaluation time   : 0.03982353210449219 sec    [20.6 %]\n",
      "   Optimization time : 0.1534886360168457 sec    [79.4 %]\n",
      "   Iteration time    : 0.1933121681213379 sec    [12932.45 iter/sec]\n",
      " \n"
     ]
    },
    {
     "name": "stderr",
     "output_type": "stream",
     "text": [
      "                                                                                                                         \r"
     ]
    },
    {
     "name": "stdout",
     "output_type": "stream",
     "text": [
      "\n",
      "Results: 'objective_fxn'  \n",
      "   Best score: -5.1015202530356945e-05  \n",
      "   Best parameter:\n",
      "      '0' : 4.994949494949495  \n",
      "      '1' : 4.994949494949495  \n",
      " \n",
      "   Random seed: 1200458361  \n",
      " \n",
      "   Evaluation time   : 0.037615060806274414 sec    [8.89 %]\n",
      "   Optimization time : 0.3856194019317627 sec    [91.11 %]\n",
      "   Iteration time    : 0.4232344627380371 sec    [5906.89 iter/sec]\n",
      " \n"
     ]
    },
    {
     "name": "stderr",
     "output_type": "stream",
     "text": [
      "                                                                                                                           \r"
     ]
    },
    {
     "name": "stdout",
     "output_type": "stream",
     "text": [
      "\n",
      "Results: 'objective_fxn'  \n",
      "   Best score: -5.1015202530356945e-05  \n",
      "   Best parameter:\n",
      "      '0' : 5.005050505050505  \n",
      "      '1' : 4.994949494949495  \n",
      " \n",
      "   Random seed: 1358796644  \n",
      " \n",
      "   Evaluation time   : 0.05424928665161133 sec    [20.18 %]\n",
      "   Optimization time : 0.21464300155639648 sec    [79.82 %]\n",
      "   Iteration time    : 0.2688922882080078 sec    [9297.4 iter/sec]\n",
      " \n"
     ]
    },
    {
     "name": "stderr",
     "output_type": "stream",
     "text": [
      "                                                                                                                          \r"
     ]
    },
    {
     "name": "stdout",
     "output_type": "stream",
     "text": [
      "\n",
      "Results: 'objective_fxn'  \n",
      "   Best score: -5.1015202530356945e-05  \n",
      "   Best parameter:\n",
      "      '0' : 4.994949494949495  \n",
      "      '1' : 5.005050505050505  \n",
      " \n",
      "   Random seed: 1269356974  \n",
      " \n",
      "   Evaluation time   : 0.1240549087524414 sec    [52.9 %]\n",
      "   Optimization time : 0.1104586124420166 sec    [47.1 %]\n",
      "   Iteration time    : 0.234513521194458 sec    [10660.37 iter/sec]\n",
      " \n"
     ]
    },
    {
     "name": "stderr",
     "output_type": "stream",
     "text": [
      "                                                                                                                         \r"
     ]
    },
    {
     "name": "stdout",
     "output_type": "stream",
     "text": [
      "\n",
      "Results: 'objective_fxn'  \n",
      "   Best score: -5.1015202530356945e-05  \n",
      "   Best parameter:\n",
      "      '0' : 5.005050505050505  \n",
      "      '1' : 5.005050505050505  \n",
      " \n",
      "   Random seed: 1514410588  \n",
      " \n",
      "   Evaluation time   : 0.09328293800354004 sec    [24.75 %]\n",
      "   Optimization time : 0.28359460830688477 sec    [75.25 %]\n",
      "   Iteration time    : 0.3768775463104248 sec    [6633.45 iter/sec]\n",
      " \n"
     ]
    },
    {
     "name": "stderr",
     "output_type": "stream",
     "text": [
      "                                                                                                                          \r"
     ]
    },
    {
     "name": "stdout",
     "output_type": "stream",
     "text": [
      "\n",
      "Results: 'objective_fxn'  \n",
      "   Best score: -5.1015202530356945e-05  \n",
      "   Best parameter:\n",
      "      '0' : 4.994949494949495  \n",
      "      '1' : 4.994949494949495  \n",
      " \n",
      "   Random seed: 648753659  \n",
      " \n",
      "   Evaluation time   : 0.041367292404174805 sec    [27.54 %]\n",
      "   Optimization time : 0.10886216163635254 sec    [72.46 %]\n",
      "   Iteration time    : 0.15022945404052734 sec    [16641.21 iter/sec]\n",
      " \n"
     ]
    },
    {
     "name": "stderr",
     "output_type": "stream",
     "text": [
      "                                                                                                                          \r"
     ]
    },
    {
     "name": "stdout",
     "output_type": "stream",
     "text": [
      "\n",
      "Results: 'objective_fxn'  \n",
      "   Best score: -5.1015202530356945e-05  \n",
      "   Best parameter:\n",
      "      '0' : 5.005050505050505  \n",
      "      '1' : 5.005050505050505  \n",
      " \n",
      "   Random seed: 1942653766  \n",
      " \n",
      "   Evaluation time   : 0.04996681213378906 sec    [24.21 %]\n",
      "   Optimization time : 0.1564478874206543 sec    [75.79 %]\n",
      "   Iteration time    : 0.20641469955444336 sec    [12111.54 iter/sec]\n",
      " \n"
     ]
    },
    {
     "name": "stderr",
     "output_type": "stream",
     "text": [
      "  2%|▏         | 40/2500 [00:00<00:00, 4064.15it/s, best_iter=40, best_pos=[50 49], best_score=-5.1015202530356945e-05]/Users/omarjimenez/opt/anaconda3/lib/python3.9/site-packages/gradient_free_optimizers/optimizers/local_opt/simulated_annealing.py:27: RuntimeWarning: overflow encountered in exp\n",
      "  return np.exp(-self._score_norm_default() / self.temp)\n",
      "                                                                                                                          \r"
     ]
    },
    {
     "name": "stdout",
     "output_type": "stream",
     "text": [
      "\n",
      "Results: 'objective_fxn'  \n",
      "   Best score: -5.1015202530356945e-05  \n",
      "   Best parameter:\n",
      "      '0' : 5.005050505050505  \n",
      "      '1' : 4.994949494949495  \n",
      " \n",
      "   Random seed: 1411000667  \n",
      " \n",
      "   Evaluation time   : 0.04546999931335449 sec    [25.99 %]\n",
      "   Optimization time : 0.1294553279876709 sec    [74.01 %]\n",
      "   Iteration time    : 0.1749253273010254 sec    [14291.81 iter/sec]\n",
      " \n"
     ]
    },
    {
     "name": "stderr",
     "output_type": "stream",
     "text": [
      "                                                                                                                           \r"
     ]
    },
    {
     "name": "stdout",
     "output_type": "stream",
     "text": [
      "\n",
      "Results: 'objective_fxn'  \n",
      "   Best score: -5.1015202530356945e-05  \n",
      "   Best parameter:\n",
      "      '0' : 5.005050505050505  \n",
      "      '1' : 5.005050505050505  \n",
      " \n",
      "   Random seed: 643208126  \n",
      " \n",
      "   Evaluation time   : 0.04602217674255371 sec    [27.01 %]\n",
      "   Optimization time : 0.12438058853149414 sec    [72.99 %]\n",
      "   Iteration time    : 0.17040276527404785 sec    [14671.12 iter/sec]\n",
      " \n"
     ]
    },
    {
     "name": "stderr",
     "output_type": "stream",
     "text": [
      "                                                                                                                       \r"
     ]
    },
    {
     "name": "stdout",
     "output_type": "stream",
     "text": [
      "\n",
      "Results: 'objective_fxn'  \n",
      "   Best score: 0.35232306866772606  \n",
      "   Best parameter:\n",
      "      '0' : -1.0456232787475657  \n",
      "      '1' : -0.011111111111111072  \n",
      " \n",
      "   Random seed: 900512999  \n",
      " \n",
      "   Evaluation time   : 0.04864811897277832 sec    [28.85 %]\n",
      "   Optimization time : 0.11996197700500488 sec    [71.15 %]\n",
      "   Iteration time    : 0.1686100959777832 sec    [14827.11 iter/sec]\n",
      " \n"
     ]
    },
    {
     "name": "stderr",
     "output_type": "stream",
     "text": [
      "                                                                                                                       \r"
     ]
    },
    {
     "name": "stdout",
     "output_type": "stream",
     "text": [
      "\n",
      "Results: 'objective_fxn'  \n",
      "   Best score: 0.35232306866772606  \n",
      "   Best parameter:\n",
      "      '0' : -1.0456232787475657  \n",
      "      '1' : 0.011111111111111072  \n",
      " \n",
      "   Random seed: 689076335  \n",
      " \n",
      "   Evaluation time   : 0.03836321830749512 sec    [25.06 %]\n",
      "   Optimization time : 0.1147468090057373 sec    [74.94 %]\n",
      "   Iteration time    : 0.15311002731323242 sec    [16328.13 iter/sec]\n",
      " \n"
     ]
    },
    {
     "name": "stderr",
     "output_type": "stream",
     "text": [
      "                                                                                                                     \r"
     ]
    },
    {
     "name": "stdout",
     "output_type": "stream",
     "text": [
      "\n",
      "Results: 'objective_fxn'  \n",
      "   Best score: 0.35232306866772606  \n",
      "   Best parameter:\n",
      "      '0' : -1.0456232787475657  \n",
      "      '1' : 0.011111111111111072  \n",
      " \n",
      "   Random seed: 1277356754  \n",
      " \n",
      "   Evaluation time   : 0.03644371032714844 sec    [9.23 %]\n",
      "   Optimization time : 0.35847949981689453 sec    [90.77 %]\n",
      "   Iteration time    : 0.39492321014404297 sec    [6330.34 iter/sec]\n",
      " \n"
     ]
    },
    {
     "name": "stderr",
     "output_type": "stream",
     "text": [
      "                                                                                                                        \r"
     ]
    },
    {
     "name": "stdout",
     "output_type": "stream",
     "text": [
      "\n",
      "Results: 'objective_fxn'  \n",
      "   Best score: 0.35232306866772606  \n",
      "   Best parameter:\n",
      "      '0' : -1.0456232787475657  \n",
      "      '1' : -0.011111111111111072  \n",
      " \n",
      "   Random seed: 2021573051  \n",
      " \n",
      "   Evaluation time   : 0.045011281967163086 sec    [17.34 %]\n",
      "   Optimization time : 0.21459555625915527 sec    [82.66 %]\n",
      "   Iteration time    : 0.25960683822631836 sec    [9629.95 iter/sec]\n",
      " \n"
     ]
    },
    {
     "name": "stderr",
     "output_type": "stream",
     "text": [
      "                                                                                                                      \r"
     ]
    },
    {
     "name": "stdout",
     "output_type": "stream",
     "text": [
      "\n",
      "Results: 'objective_fxn'  \n",
      "   Best score: 0.35232306866772606  \n",
      "   Best parameter:\n",
      "      '0' : -1.0456232787475657  \n",
      "      '1' : -0.011111111111111072  \n",
      " \n",
      "   Random seed: 1917141725  \n",
      " \n",
      "   Evaluation time   : 0.08804011344909668 sec    [44.23 %]\n",
      "   Optimization time : 0.11101698875427246 sec    [55.77 %]\n",
      "   Iteration time    : 0.19905710220336914 sec    [12559.21 iter/sec]\n",
      " \n"
     ]
    },
    {
     "name": "stderr",
     "output_type": "stream",
     "text": [
      "                                                                                                                     \r"
     ]
    },
    {
     "name": "stdout",
     "output_type": "stream",
     "text": [
      "\n",
      "Results: 'objective_fxn'  \n",
      "   Best score: 0.35232306866772606  \n",
      "   Best parameter:\n",
      "      '0' : -1.0456232787475657  \n",
      "      '1' : 0.011111111111111072  \n",
      " \n",
      "   Random seed: 97092446  \n",
      " \n",
      "   Evaluation time   : 0.06947946548461914 sec    [19.77 %]\n",
      "   Optimization time : 0.2819547653198242 sec    [80.23 %]\n",
      "   Iteration time    : 0.35143423080444336 sec    [7113.71 iter/sec]\n",
      " \n"
     ]
    },
    {
     "name": "stderr",
     "output_type": "stream",
     "text": [
      "                                                                                                                      \r"
     ]
    },
    {
     "name": "stdout",
     "output_type": "stream",
     "text": [
      "\n",
      "Results: 'objective_fxn'  \n",
      "   Best score: 0.35174924280463005  \n",
      "   Best parameter:\n",
      "      '0' : -1.0688828461211213  \n",
      "      '1' : 0.011111111111111072  \n",
      " \n",
      "   Random seed: 823674919  \n",
      " \n",
      "   Evaluation time   : 0.04083847999572754 sec    [27.32 %]\n",
      "   Optimization time : 0.10862302780151367 sec    [72.68 %]\n",
      "   Iteration time    : 0.1494615077972412 sec    [16726.71 iter/sec]\n",
      " \n"
     ]
    },
    {
     "name": "stderr",
     "output_type": "stream",
     "text": [
      "                                                                                                                       \r"
     ]
    },
    {
     "name": "stdout",
     "output_type": "stream",
     "text": [
      "\n",
      "Results: 'objective_fxn'  \n",
      "   Best score: 0.35232306866772606  \n",
      "   Best parameter:\n",
      "      '0' : -1.0456232787475657  \n",
      "      '1' : -0.011111111111111072  \n",
      " \n",
      "   Random seed: 679127601  \n",
      " \n",
      "   Evaluation time   : 0.04612112045288086 sec    [23.44 %]\n",
      "   Optimization time : 0.1506788730621338 sec    [76.56 %]\n",
      "   Iteration time    : 0.19679999351501465 sec    [12703.25 iter/sec]\n",
      " \n"
     ]
    },
    {
     "name": "stderr",
     "output_type": "stream",
     "text": [
      "  5%|▍         | 123/2500 [00:00<00:00, 5961.88it/s, best_iter=123, best_pos=[50 50], best_score=0.35232306866772606]/Users/omarjimenez/opt/anaconda3/lib/python3.9/site-packages/gradient_free_optimizers/optimizers/local_opt/simulated_annealing.py:27: RuntimeWarning: overflow encountered in exp\n",
      "  return np.exp(-self._score_norm_default() / self.temp)\n",
      "                                                                                                                       \r"
     ]
    },
    {
     "name": "stdout",
     "output_type": "stream",
     "text": [
      "\n",
      "Results: 'objective_fxn'  \n",
      "   Best score: 0.35232306866772606  \n",
      "   Best parameter:\n",
      "      '0' : -1.0456232787475657  \n",
      "      '1' : 0.011111111111111072  \n",
      " \n",
      "   Random seed: 2048225546  \n",
      " \n",
      "   Evaluation time   : 0.06513738632202148 sec    [33.75 %]\n",
      "   Optimization time : 0.1278374195098877 sec    [66.25 %]\n",
      "   Iteration time    : 0.19297480583190918 sec    [12955.06 iter/sec]\n",
      " \n"
     ]
    },
    {
     "name": "stderr",
     "output_type": "stream",
     "text": [
      "                                                                                                                      \r"
     ]
    },
    {
     "name": "stdout",
     "output_type": "stream",
     "text": [
      "\n",
      "Results: 'objective_fxn'  \n",
      "   Best score: 0.35232306866772606  \n",
      "   Best parameter:\n",
      "      '0' : -1.0456232787475657  \n",
      "      '1' : 0.011111111111111072  \n",
      " \n",
      "   Random seed: 958766278  \n",
      " \n",
      "   Evaluation time   : 0.04579448699951172 sec    [25.52 %]\n",
      "   Optimization time : 0.1336374282836914 sec    [74.48 %]\n",
      "   Iteration time    : 0.17943191528320312 sec    [13932.86 iter/sec]\n",
      " \n"
     ]
    },
    {
     "name": "stderr",
     "output_type": "stream",
     "text": [
      "                                                                                                                 \r"
     ]
    },
    {
     "name": "stdout",
     "output_type": "stream",
     "text": [
      "\n",
      "Results: 'objective_fxn'  \n",
      "   Best score: 3.7624641910540104  \n",
      "   Best parameter:\n",
      "      '0' : 2.666666666666666  \n",
      " \n",
      "   Random seed: 1549207182  \n",
      " \n",
      "   Evaluation time   : 0.028477907180786133 sec    [22.17 %]\n",
      "   Optimization time : 0.09999251365661621 sec    [77.83 %]\n",
      "   Iteration time    : 0.12847042083740234 sec    [19459.73 iter/sec]\n",
      " \n"
     ]
    },
    {
     "name": "stderr",
     "output_type": "stream",
     "text": [
      "                                                                                                                \r"
     ]
    },
    {
     "name": "stdout",
     "output_type": "stream",
     "text": [
      "\n",
      "Results: 'objective_fxn'  \n",
      "   Best score: 3.418901120478621  \n",
      "   Best parameter:\n",
      "      '0' : -0.6565656565656566  \n",
      " \n",
      "   Random seed: 1939351659  \n",
      " \n",
      "   Evaluation time   : 0.02632904052734375 sec    [20.32 %]\n",
      "   Optimization time : 0.10324954986572266 sec    [79.68 %]\n",
      "   Iteration time    : 0.1295785903930664 sec    [19293.31 iter/sec]\n",
      " \n"
     ]
    },
    {
     "name": "stderr",
     "output_type": "stream",
     "text": [
      "                                                                                                                \r"
     ]
    },
    {
     "name": "stdout",
     "output_type": "stream",
     "text": [
      "\n",
      "Results: 'objective_fxn'  \n",
      "   Best score: 3.418901120478621  \n",
      "   Best parameter:\n",
      "      '0' : -0.6565656565656566  \n",
      " \n",
      "   Random seed: 1034234088  \n",
      " \n",
      "   Evaluation time   : 0.02685713768005371 sec    [13.13 %]\n",
      "   Optimization time : 0.17772150039672852 sec    [86.87 %]\n",
      "   Iteration time    : 0.20457863807678223 sec    [12220.24 iter/sec]\n",
      " \n"
     ]
    },
    {
     "name": "stderr",
     "output_type": "stream",
     "text": [
      "                                                                                                                   \r"
     ]
    },
    {
     "name": "stdout",
     "output_type": "stream",
     "text": [
      "\n",
      "Results: 'objective_fxn'  \n",
      "   Best score: 3.7624641910540104  \n",
      "   Best parameter:\n",
      "      '0' : 2.666666666666666  \n",
      " \n",
      "   Random seed: 1325067758  \n",
      " \n",
      "   Evaluation time   : 0.02874302864074707 sec    [12.53 %]\n",
      "   Optimization time : 0.20061230659484863 sec    [87.47 %]\n",
      "   Iteration time    : 0.2293553352355957 sec    [10900.12 iter/sec]\n",
      " \n"
     ]
    },
    {
     "name": "stderr",
     "output_type": "stream",
     "text": [
      "                                                                                                                  \r"
     ]
    },
    {
     "name": "stdout",
     "output_type": "stream",
     "text": [
      "\n",
      "Results: 'objective_fxn'  \n",
      "   Best score: 3.7624641910540104  \n",
      "   Best parameter:\n",
      "      '0' : 2.666666666666666  \n",
      " \n",
      "   Random seed: 986703635  \n",
      " \n",
      "   Evaluation time   : 0.028004884719848633 sec    [27.44 %]\n",
      "   Optimization time : 0.07403898239135742 sec    [72.56 %]\n",
      "   Iteration time    : 0.10204386711120605 sec    [24499.27 iter/sec]\n",
      " \n"
     ]
    },
    {
     "name": "stderr",
     "output_type": "stream",
     "text": [
      "                                                                                                                \r"
     ]
    },
    {
     "name": "stdout",
     "output_type": "stream",
     "text": [
      "\n",
      "Results: 'objective_fxn'  \n",
      "   Best score: 3.418901120478621  \n",
      "   Best parameter:\n",
      "      '0' : -0.6565656565656566  \n",
      " \n",
      "   Random seed: 1058746073  \n",
      " \n",
      "   Evaluation time   : 0.02873826026916504 sec    [21.81 %]\n",
      "   Optimization time : 0.10303950309753418 sec    [78.19 %]\n",
      "   Iteration time    : 0.13177776336669922 sec    [18971.33 iter/sec]\n",
      " \n"
     ]
    },
    {
     "name": "stderr",
     "output_type": "stream",
     "text": [
      "                                                                                                                   \r"
     ]
    },
    {
     "name": "stdout",
     "output_type": "stream",
     "text": [
      "\n",
      "Results: 'objective_fxn'  \n",
      "   Best score: 3.7624641910540104  \n",
      "   Best parameter:\n",
      "      '0' : 2.666666666666666  \n",
      " \n",
      "   Random seed: 542492587  \n",
      " \n",
      "   Evaluation time   : 0.033684492111206055 sec    [22.71 %]\n",
      "   Optimization time : 0.11464858055114746 sec    [77.29 %]\n",
      "   Iteration time    : 0.14833307266235352 sec    [16853.96 iter/sec]\n",
      " \n"
     ]
    },
    {
     "name": "stderr",
     "output_type": "stream",
     "text": [
      "                                                                                                                \r"
     ]
    },
    {
     "name": "stdout",
     "output_type": "stream",
     "text": [
      "\n",
      "Results: 'objective_fxn'  \n",
      "   Best score: 3.418901120478621  \n",
      "   Best parameter:\n",
      "      '0' : -0.6565656565656566  \n",
      " \n",
      "   Random seed: 161170580  \n",
      " \n",
      "   Evaluation time   : 0.03007793426513672 sec    [16.5 %]\n",
      "   Optimization time : 0.1522197723388672 sec    [83.5 %]\n",
      "   Iteration time    : 0.1822977066040039 sec    [13713.83 iter/sec]\n",
      " \n"
     ]
    },
    {
     "name": "stderr",
     "output_type": "stream",
     "text": [
      "  0%|          | 2/2500 [00:00<00:01, 2262.30it/s, best_iter=2, best_pos=[19], best_score=3.418901120478621]/Users/omarjimenez/opt/anaconda3/lib/python3.9/site-packages/gradient_free_optimizers/optimizers/local_opt/simulated_annealing.py:27: RuntimeWarning: overflow encountered in exp\n",
      "  return np.exp(-self._score_norm_default() / self.temp)\n",
      "                                                                                                                    \r"
     ]
    },
    {
     "name": "stdout",
     "output_type": "stream",
     "text": [
      "\n",
      "Results: 'objective_fxn'  \n",
      "   Best score: 3.7624641910540104  \n",
      "   Best parameter:\n",
      "      '0' : 2.666666666666666  \n",
      " \n",
      "   Random seed: 1621568691  \n",
      " \n",
      "   Evaluation time   : 0.02985668182373047 sec    [19.49 %]\n",
      "   Optimization time : 0.12334752082824707 sec    [80.51 %]\n",
      "   Iteration time    : 0.15320420265197754 sec    [16318.09 iter/sec]\n",
      " \n"
     ]
    },
    {
     "name": "stderr",
     "output_type": "stream",
     "text": [
      "                                                                                                                \r"
     ]
    },
    {
     "name": "stdout",
     "output_type": "stream",
     "text": [
      "\n",
      "Results: 'objective_fxn'  \n",
      "   Best score: 3.418901120478621  \n",
      "   Best parameter:\n",
      "      '0' : -0.6565656565656566  \n",
      " \n",
      "   Random seed: 861455666  \n",
      " \n",
      "   Evaluation time   : 0.02611064910888672 sec    [18.72 %]\n",
      "   Optimization time : 0.11337423324584961 sec    [81.28 %]\n",
      "   Iteration time    : 0.13948488235473633 sec    [17923.09 iter/sec]\n",
      " \n"
     ]
    },
    {
     "name": "stderr",
     "output_type": "stream",
     "text": [
      "                                                                                                                     \r"
     ]
    },
    {
     "name": "stdout",
     "output_type": "stream",
     "text": [
      "\n",
      "Results: 'objective_fxn'  \n",
      "   Best score: -1118.3972516974957  \n",
      "   Best parameter:\n",
      "      '0' : 0.5  \n",
      "      '1' : 0.5151515151515154  \n",
      " \n",
      "   Random seed: 1489265624  \n",
      " \n",
      "   Evaluation time   : 0.13054561614990234 sec    [53.12 %]\n",
      "   Optimization time : 0.11520242691040039 sec    [46.88 %]\n",
      "   Iteration time    : 0.24574804306030273 sec    [10173.02 iter/sec]\n",
      " \n"
     ]
    },
    {
     "name": "stderr",
     "output_type": "stream",
     "text": [
      "                                                                                                                       \r"
     ]
    },
    {
     "name": "stdout",
     "output_type": "stream",
     "text": [
      "\n",
      "Results: 'objective_fxn'  \n",
      "   Best score: -140.74605226532364  \n",
      "   Best parameter:\n",
      "      '0' : 0.7666666666666666  \n",
      "      '1' : 0.49494949494949503  \n",
      " \n",
      "   Random seed: 341944826  \n",
      " \n",
      "   Evaluation time   : 0.0641331672668457 sec    [35.48 %]\n",
      "   Optimization time : 0.11662912368774414 sec    [64.52 %]\n",
      "   Iteration time    : 0.18076229095458984 sec    [13830.32 iter/sec]\n",
      " \n"
     ]
    },
    {
     "name": "stderr",
     "output_type": "stream",
     "text": [
      "                                                                                                                    \r"
     ]
    },
    {
     "name": "stdout",
     "output_type": "stream",
     "text": [
      "\n",
      "Results: 'objective_fxn'  \n",
      "   Best score: -2444.546136125598  \n",
      "   Best parameter:\n",
      "      '0' : 1.1  \n",
      "      '1' : 0.4747474747474749  \n",
      " \n",
      "   Random seed: 1722335138  \n",
      " \n",
      "   Evaluation time   : 0.045990943908691406 sec    [11.14 %]\n",
      "   Optimization time : 0.3669586181640625 sec    [88.86 %]\n",
      "   Iteration time    : 0.4129495620727539 sec    [6054.01 iter/sec]\n",
      " \n"
     ]
    },
    {
     "name": "stderr",
     "output_type": "stream",
     "text": [
      "                                                                                                                       \r"
     ]
    },
    {
     "name": "stdout",
     "output_type": "stream",
     "text": [
      "\n",
      "Results: 'objective_fxn'  \n",
      "   Best score: -140.74605226532364  \n",
      "   Best parameter:\n",
      "      '0' : 0.7666666666666666  \n",
      "      '1' : 0.49494949494949503  \n",
      " \n",
      "   Random seed: 609631629  \n",
      " \n",
      "   Evaluation time   : 0.11613202095031738 sec    [33.34 %]\n",
      "   Optimization time : 0.23215270042419434 sec    [66.66 %]\n",
      "   Iteration time    : 0.3482847213745117 sec    [7178.04 iter/sec]\n",
      " \n"
     ]
    },
    {
     "name": "stderr",
     "output_type": "stream",
     "text": [
      "                                                                                                                   \r"
     ]
    },
    {
     "name": "stdout",
     "output_type": "stream",
     "text": [
      "\n",
      "Results: 'objective_fxn'  \n",
      "   Best score: -960487.8466552099  \n",
      "   Best parameter:\n",
      "      '0' : 0.3666666666666667  \n",
      "      '1' : 0.3333333333333335  \n",
      " \n",
      "   Random seed: 673556129  \n",
      " \n",
      "   Evaluation time   : 0.4894092082977295 sec    [82.53 %]\n",
      "   Optimization time : 0.10362362861633301 sec    [17.47 %]\n",
      "   Iteration time    : 0.5930328369140625 sec    [4215.62 iter/sec]\n",
      " \n"
     ]
    },
    {
     "name": "stderr",
     "output_type": "stream",
     "text": [
      "                                                                                                                     \r"
     ]
    },
    {
     "name": "stdout",
     "output_type": "stream",
     "text": [
      "\n",
      "Results: 'objective_fxn'  \n",
      "   Best score: -891554.2269054089  \n",
      "   Best parameter:\n",
      "      '0' : 1.1  \n",
      "      '1' : 0.3333333333333335  \n",
      " \n",
      "   Random seed: 747232206  \n",
      " \n",
      "   Evaluation time   : 0.038805484771728516 sec    [29.79 %]\n",
      "   Optimization time : 0.09146547317504883 sec    [70.21 %]\n",
      "   Iteration time    : 0.13027095794677734 sec    [19190.77 iter/sec]\n",
      " \n"
     ]
    },
    {
     "name": "stderr",
     "output_type": "stream",
     "text": [
      "                                                                                                                      \r"
     ]
    },
    {
     "name": "stdout",
     "output_type": "stream",
     "text": [
      "\n",
      "Results: 'objective_fxn'  \n",
      "   Best score: -11329.310670745353  \n",
      "   Best parameter:\n",
      "      '0' : 0.3666666666666667  \n",
      "      '1' : 0.5353535353535355  \n",
      " \n",
      "   Random seed: 1863820955  \n",
      " \n",
      "   Evaluation time   : 0.07029986381530762 sec    [41.09 %]\n",
      "   Optimization time : 0.10078692436218262 sec    [58.91 %]\n",
      "   Iteration time    : 0.17108678817749023 sec    [14612.47 iter/sec]\n",
      " \n"
     ]
    },
    {
     "name": "stderr",
     "output_type": "stream",
     "text": [
      "                                                                                                                       \r"
     ]
    },
    {
     "name": "stdout",
     "output_type": "stream",
     "text": [
      "\n",
      "Results: 'objective_fxn'  \n",
      "   Best score: -1118.3972516974957  \n",
      "   Best parameter:\n",
      "      '0' : 0.5  \n",
      "      '1' : 0.5151515151515154  \n",
      " \n",
      "   Random seed: 375762694  \n",
      " \n",
      "   Evaluation time   : 0.0942533016204834 sec    [39.34 %]\n",
      "   Optimization time : 0.1453101634979248 sec    [60.66 %]\n",
      "   Iteration time    : 0.2395634651184082 sec    [10435.65 iter/sec]\n",
      " \n"
     ]
    },
    {
     "name": "stderr",
     "output_type": "stream",
     "text": [
      "  5%|▌         | 134/2500 [00:00<00:00, 3284.48it/s, best_iter=134, best_pos=[64 76], best_score=-3825.075912025059]/Users/omarjimenez/opt/anaconda3/lib/python3.9/site-packages/gradient_free_optimizers/optimizers/local_opt/simulated_annealing.py:27: RuntimeWarning: overflow encountered in exp\n",
      "  return np.exp(-self._score_norm_default() / self.temp)\n",
      "                                                                                                                      \r"
     ]
    },
    {
     "name": "stdout",
     "output_type": "stream",
     "text": [
      "\n",
      "Results: 'objective_fxn'  \n",
      "   Best score: -1118.3972516974957  \n",
      "   Best parameter:\n",
      "      '0' : 0.5  \n",
      "      '1' : 0.5151515151515154  \n",
      " \n",
      "   Random seed: 672075527  \n",
      " \n",
      "   Evaluation time   : 0.1120462417602539 sec    [45.67 %]\n",
      "   Optimization time : 0.13327479362487793 sec    [54.33 %]\n",
      "   Iteration time    : 0.24532103538513184 sec    [10190.73 iter/sec]\n",
      " \n"
     ]
    },
    {
     "name": "stderr",
     "output_type": "stream",
     "text": [
      "                                                                                                                       \r"
     ]
    },
    {
     "name": "stdout",
     "output_type": "stream",
     "text": [
      "\n",
      "Results: 'objective_fxn'  \n",
      "   Best score: -140.74605226532364  \n",
      "   Best parameter:\n",
      "      '0' : 0.7666666666666666  \n",
      "      '1' : 0.49494949494949503  \n",
      " \n",
      "   Random seed: 1567038551  \n",
      " \n",
      "   Evaluation time   : 0.09423661231994629 sec    [42.32 %]\n",
      "   Optimization time : 0.12842249870300293 sec    [57.68 %]\n",
      "   Iteration time    : 0.22265911102294922 sec    [11227.93 iter/sec]\n",
      " \n"
     ]
    },
    {
     "name": "stderr",
     "output_type": "stream",
     "text": [
      "                                                                                                                      \r"
     ]
    },
    {
     "name": "stdout",
     "output_type": "stream",
     "text": [
      "\n",
      "Results: 'objective_fxn'  \n",
      "   Best score: 2.3457827318103384  \n",
      "   Best parameter:\n",
      "      '0' : 3.9959595959096466  \n",
      "      '1' : 2.0020202019901716  \n",
      " \n",
      "   Random seed: 1490918990  \n",
      " \n",
      "   Evaluation time   : 0.05507159233093262 sec    [32.67 %]\n",
      "   Optimization time : 0.11352324485778809 sec    [67.33 %]\n",
      "   Iteration time    : 0.1685948371887207 sec    [14828.45 iter/sec]\n",
      " \n"
     ]
    },
    {
     "name": "stderr",
     "output_type": "stream",
     "text": [
      "                                                                                                                      \r"
     ]
    },
    {
     "name": "stdout",
     "output_type": "stream",
     "text": [
      "\n",
      "Results: 'objective_fxn'  \n",
      "   Best score: 2.3457827318103384  \n",
      "   Best parameter:\n",
      "      '0' : 3.9959595959096466  \n",
      "      '1' : 2.0020202019901716  \n",
      " \n",
      "   Random seed: 2111153144  \n",
      " \n",
      "   Evaluation time   : 0.03971672058105469 sec    [26.08 %]\n",
      "   Optimization time : 0.11254453659057617 sec    [73.92 %]\n",
      "   Iteration time    : 0.15226125717163086 sec    [16419.15 iter/sec]\n",
      " \n"
     ]
    },
    {
     "name": "stderr",
     "output_type": "stream",
     "text": [
      "                                                                                                                    \r"
     ]
    },
    {
     "name": "stdout",
     "output_type": "stream",
     "text": [
      "\n",
      "Results: 'objective_fxn'  \n",
      "   Best score: 2.3457827318103384  \n",
      "   Best parameter:\n",
      "      '0' : 3.9959595959096466  \n",
      "      '1' : 2.0020202019901716  \n",
      " \n",
      "   Random seed: 862818428  \n",
      " \n",
      "   Evaluation time   : 0.0366823673248291 sec    [9.67 %]\n",
      "   Optimization time : 0.3424844741821289 sec    [90.33 %]\n",
      "   Iteration time    : 0.379166841506958 sec    [6593.4 iter/sec]\n",
      " \n"
     ]
    },
    {
     "name": "stderr",
     "output_type": "stream",
     "text": [
      "                                                                                                                      \r"
     ]
    },
    {
     "name": "stdout",
     "output_type": "stream",
     "text": [
      "\n",
      "Results: 'objective_fxn'  \n",
      "   Best score: 2.3457827318103384  \n",
      "   Best parameter:\n",
      "      '0' : 3.9959595959096466  \n",
      "      '1' : 2.0020202019901716  \n",
      " \n",
      "   Random seed: 1887168688  \n",
      " \n",
      "   Evaluation time   : 0.04947614669799805 sec    [18.86 %]\n",
      "   Optimization time : 0.21288657188415527 sec    [81.14 %]\n",
      "   Iteration time    : 0.2623627185821533 sec    [9528.79 iter/sec]\n",
      " \n"
     ]
    },
    {
     "name": "stderr",
     "output_type": "stream",
     "text": [
      "                                                                                                                     \r"
     ]
    },
    {
     "name": "stdout",
     "output_type": "stream",
     "text": [
      "\n",
      "Results: 'objective_fxn'  \n",
      "   Best score: 2.3457827318103384  \n",
      "   Best parameter:\n",
      "      '0' : 3.9959595959096466  \n",
      "      '1' : 2.0020202019901716  \n",
      " \n",
      "   Random seed: 1754405391  \n",
      " \n",
      "   Evaluation time   : 0.12605643272399902 sec    [53.17 %]\n",
      "   Optimization time : 0.1110236644744873 sec    [46.83 %]\n",
      "   Iteration time    : 0.23708009719848633 sec    [10544.96 iter/sec]\n",
      " \n"
     ]
    },
    {
     "name": "stderr",
     "output_type": "stream",
     "text": [
      "                                                                                                                   \r"
     ]
    },
    {
     "name": "stdout",
     "output_type": "stream",
     "text": [
      "\n",
      "Results: 'objective_fxn'  \n",
      "   Best score: 2.345782612790615  \n",
      "   Best parameter:\n",
      "      '0' : 4.004040403990354  \n",
      "      '1' : 2.0020202019901716  \n",
      " \n",
      "   Random seed: 1389187244  \n",
      " \n",
      "   Evaluation time   : 0.09021854400634766 sec    [24.79 %]\n",
      "   Optimization time : 0.2737715244293213 sec    [75.21 %]\n",
      "   Iteration time    : 0.36399006843566895 sec    [6868.32 iter/sec]\n",
      " \n"
     ]
    },
    {
     "name": "stderr",
     "output_type": "stream",
     "text": [
      "                                                                                                                      \r"
     ]
    },
    {
     "name": "stdout",
     "output_type": "stream",
     "text": [
      "\n",
      "Results: 'objective_fxn'  \n",
      "   Best score: 2.3445042493099377  \n",
      "   Best parameter:\n",
      "      '0' : 3.9878787878289392  \n",
      "      '1' : 1.957575757546394  \n",
      " \n",
      "   Random seed: 257564717  \n",
      " \n",
      "   Evaluation time   : 0.04172468185424805 sec    [28.53 %]\n",
      "   Optimization time : 0.1045234203338623 sec    [71.47 %]\n",
      "   Iteration time    : 0.14624810218811035 sec    [17094.24 iter/sec]\n",
      " \n"
     ]
    },
    {
     "name": "stderr",
     "output_type": "stream",
     "text": [
      "                                                                                                                      \r"
     ]
    },
    {
     "name": "stdout",
     "output_type": "stream",
     "text": [
      "\n",
      "Results: 'objective_fxn'  \n",
      "   Best score: 2.3457827318103384  \n",
      "   Best parameter:\n",
      "      '0' : 3.9959595959096466  \n",
      "      '1' : 2.0020202019901716  \n",
      " \n",
      "   Random seed: 978101339  \n",
      " \n",
      "   Evaluation time   : 0.053624629974365234 sec    [25.07 %]\n",
      "   Optimization time : 0.16026616096496582 sec    [74.93 %]\n",
      "   Iteration time    : 0.21389079093933105 sec    [11688.21 iter/sec]\n",
      " \n"
     ]
    },
    {
     "name": "stderr",
     "output_type": "stream",
     "text": [
      "                                                                                                                      \r"
     ]
    },
    {
     "name": "stdout",
     "output_type": "stream",
     "text": [
      "\n",
      "Results: 'objective_fxn'  \n",
      "   Best score: 2.3457827318103384  \n",
      "   Best parameter:\n",
      "      '0' : 3.9959595959096466  \n",
      "      '1' : 2.0020202019901716  \n",
      " \n",
      "   Random seed: 1229010392  \n",
      " \n",
      "   Evaluation time   : 0.10393762588500977 sec    [42.6 %]\n",
      "   Optimization time : 0.14006471633911133 sec    [57.4 %]\n",
      "   Iteration time    : 0.2440023422241211 sec    [10245.8 iter/sec]\n",
      " \n"
     ]
    },
    {
     "name": "stderr",
     "output_type": "stream",
     "text": [
      "                                                                                                                    \r"
     ]
    },
    {
     "name": "stdout",
     "output_type": "stream",
     "text": [
      "\n",
      "Results: 'objective_fxn'  \n",
      "   Best score: 2.3457827318103384  \n",
      "   Best parameter:\n",
      "      '0' : 3.9959595959096466  \n",
      "      '1' : 2.0020202019901716  \n",
      " \n",
      "   Random seed: 1721478810  \n",
      " \n",
      "   Evaluation time   : 0.05054044723510742 sec    [26.78 %]\n",
      "   Optimization time : 0.13821649551391602 sec    [73.22 %]\n",
      "   Iteration time    : 0.18875694274902344 sec    [13244.55 iter/sec]\n",
      " \n"
     ]
    },
    {
     "name": "stderr",
     "output_type": "stream",
     "text": [
      "                                                                                                                           \r"
     ]
    },
    {
     "name": "stdout",
     "output_type": "stream",
     "text": [
      "\n",
      "Results: 'objective_fxn'  \n",
      "   Best score: -1.0212402512845714e-06  \n",
      "   Best parameter:\n",
      "      '0' : 0.9989898990298586  \n",
      "      '1' : 0.9969696970993029  \n",
      " \n",
      "   Random seed: 197497757  \n",
      " \n",
      "   Evaluation time   : 0.04832124710083008 sec    [29.07 %]\n",
      "   Optimization time : 0.1179037094116211 sec    [70.93 %]\n",
      "   Iteration time    : 0.16622495651245117 sec    [15039.86 iter/sec]\n",
      " \n"
     ]
    },
    {
     "name": "stderr",
     "output_type": "stream",
     "text": [
      "                                                                                                                           \r"
     ]
    },
    {
     "name": "stdout",
     "output_type": "stream",
     "text": [
      "\n",
      "Results: 'objective_fxn'  \n",
      "   Best score: -0.00019895696264701708  \n",
      "   Best parameter:\n",
      "      '0' : 0.9868686869081617  \n",
      "      '1' : 0.9606060607309393  \n",
      " \n",
      "   Random seed: 1676590356  \n",
      " \n",
      "   Evaluation time   : 0.03692507743835449 sec    [25.23 %]\n",
      "   Optimization time : 0.10943245887756348 sec    [74.77 %]\n",
      "   Iteration time    : 0.14635753631591797 sec    [17081.46 iter/sec]\n",
      " \n"
     ]
    },
    {
     "name": "stderr",
     "output_type": "stream",
     "text": [
      "                                                                                                                         \r"
     ]
    },
    {
     "name": "stdout",
     "output_type": "stream",
     "text": [
      "\n",
      "Results: 'objective_fxn'  \n",
      "   Best score: -0.00037401860718023285  \n",
      "   Best parameter:\n",
      "      '0' : 1.017171717212404  \n",
      "      '1' : 1.0515151516518484  \n",
      " \n",
      "   Random seed: 871814754  \n",
      " \n",
      "   Evaluation time   : 0.036170005798339844 sec    [9.36 %]\n",
      "   Optimization time : 0.35038161277770996 sec    [90.64 %]\n",
      "   Iteration time    : 0.3865516185760498 sec    [6467.44 iter/sec]\n",
      " \n"
     ]
    },
    {
     "name": "stderr",
     "output_type": "stream",
     "text": [
      "                                                                                                                          \r"
     ]
    },
    {
     "name": "stdout",
     "output_type": "stream",
     "text": [
      "\n",
      "Results: 'objective_fxn'  \n",
      "   Best score: -0.0007474465972655153  \n",
      "   Best parameter:\n",
      "      '0' : 0.9727272727661819  \n",
      "      '1' : 0.9202020203216464  \n",
      " \n",
      "   Random seed: 1230108254  \n",
      " \n",
      "   Evaluation time   : 0.038626670837402344 sec    [16.09 %]\n",
      "   Optimization time : 0.20151424407958984 sec    [83.91 %]\n",
      "   Iteration time    : 0.2401409149169922 sec    [10410.55 iter/sec]\n",
      " \n"
     ]
    },
    {
     "name": "stderr",
     "output_type": "stream",
     "text": [
      "                                                                                                                           \r"
     ]
    },
    {
     "name": "stdout",
     "output_type": "stream",
     "text": [
      "\n",
      "Results: 'objective_fxn'  \n",
      "   Best score: -1.0212402512845714e-06  \n",
      "   Best parameter:\n",
      "      '0' : 0.9989898990298586  \n",
      "      '1' : 0.9969696970993029  \n",
      " \n",
      "   Random seed: 104576457  \n",
      " \n",
      "   Evaluation time   : 0.07525157928466797 sec    [41.78 %]\n",
      "   Optimization time : 0.10485601425170898 sec    [58.22 %]\n",
      "   Iteration time    : 0.18010759353637695 sec    [13880.59 iter/sec]\n",
      " \n"
     ]
    },
    {
     "name": "stderr",
     "output_type": "stream",
     "text": [
      "                                                                                                                           \r"
     ]
    },
    {
     "name": "stdout",
     "output_type": "stream",
     "text": [
      "\n",
      "Results: 'objective_fxn'  \n",
      "   Best score: -1.0212416747020108e-06  \n",
      "   Best parameter:\n",
      "      '0' : 1.0010101010501413  \n",
      "      '1' : 1.0030303031606969  \n",
      " \n",
      "   Random seed: 1576109504  \n",
      " \n",
      "   Evaluation time   : 0.05949831008911133 sec    [17.76 %]\n",
      "   Optimization time : 0.27544426918029785 sec    [82.24 %]\n",
      "   Iteration time    : 0.3349425792694092 sec    [7463.97 iter/sec]\n",
      " \n"
     ]
    },
    {
     "name": "stderr",
     "output_type": "stream",
     "text": [
      "                                                                                                                          \r"
     ]
    },
    {
     "name": "stdout",
     "output_type": "stream",
     "text": [
      "\n",
      "Results: 'objective_fxn'  \n",
      "   Best score: -2.6091204693078047e-05  \n",
      "   Best parameter:\n",
      "      '0' : 0.994949494989293  \n",
      "      '1' : 0.9848484849765151  \n",
      " \n",
      "   Random seed: 620786046  \n",
      " \n",
      "   Evaluation time   : 0.03666377067565918 sec    [26.48 %]\n",
      "   Optimization time : 0.1017754077911377 sec    [73.52 %]\n",
      "   Iteration time    : 0.13843917846679688 sec    [18058.47 iter/sec]\n",
      " \n"
     ]
    },
    {
     "name": "stderr",
     "output_type": "stream",
     "text": [
      "                                                                                                                            \r"
     ]
    },
    {
     "name": "stdout",
     "output_type": "stream",
     "text": [
      "\n",
      "Results: 'objective_fxn'  \n",
      "   Best score: -2.6095148754927545e-05  \n",
      "   Best parameter:\n",
      "      '0' : 1.005050505090707  \n",
      "      '1' : 1.0151515152834847  \n",
      " \n",
      "   Random seed: 137846062  \n",
      " \n",
      "   Evaluation time   : 0.050917625427246094 sec    [24.36 %]\n",
      "   Optimization time : 0.15807819366455078 sec    [75.64 %]\n",
      "   Iteration time    : 0.20899581909179688 sec    [11961.96 iter/sec]\n",
      " \n"
     ]
    },
    {
     "name": "stderr",
     "output_type": "stream",
     "text": [
      "  5%|▌         | 130/2500 [00:00<00:00, 7131.96it/s, best_iter=130, best_pos=[56 69], best_score=-0.0001994254780768885]/Users/omarjimenez/opt/anaconda3/lib/python3.9/site-packages/gradient_free_optimizers/optimizers/local_opt/simulated_annealing.py:27: RuntimeWarning: overflow encountered in exp\n",
      "  return np.exp(-self._score_norm_default() / self.temp)\n",
      "                                                                                                                           \r"
     ]
    },
    {
     "name": "stdout",
     "output_type": "stream",
     "text": [
      "\n",
      "Results: 'objective_fxn'  \n",
      "   Best score: -1.0212402512845714e-06  \n",
      "   Best parameter:\n",
      "      '0' : 0.9989898990298586  \n",
      "      '1' : 0.9969696970993029  \n",
      " \n",
      "   Random seed: 1706026341  \n",
      " \n",
      "   Evaluation time   : 0.043410539627075195 sec    [24.54 %]\n",
      "   Optimization time : 0.13347458839416504 sec    [75.46 %]\n",
      "   Iteration time    : 0.17688512802124023 sec    [14133.47 iter/sec]\n",
      " \n"
     ]
    },
    {
     "name": "stderr",
     "output_type": "stream",
     "text": [
      "                                                                                                                           \r"
     ]
    },
    {
     "name": "stdout",
     "output_type": "stream",
     "text": [
      "\n",
      "Results: 'objective_fxn'  \n",
      "   Best score: -1.0212402512845714e-06  \n",
      "   Best parameter:\n",
      "      '0' : 0.9989898990298586  \n",
      "      '1' : 0.9969696970993029  \n",
      " \n",
      "   Random seed: 460265955  \n",
      " \n",
      "   Evaluation time   : 0.0431056022644043 sec    [25.14 %]\n",
      "   Optimization time : 0.12836098670959473 sec    [74.86 %]\n",
      "   Iteration time    : 0.17146658897399902 sec    [14580.1 iter/sec]\n",
      " \n"
     ]
    },
    {
     "name": "stderr",
     "output_type": "stream",
     "text": [
      "                                                                                                                           \r"
     ]
    },
    {
     "name": "stdout",
     "output_type": "stream",
     "text": [
      "\n",
      "Results: 'objective_fxn'  \n",
      "   Best score: -0.00016079504635117098  \n",
      "   Best parameter:\n",
      "      '0' : 0.9888888888888889  \n",
      "      '1' : 1.0050505050605556  \n",
      " \n",
      "   Random seed: 1547571256  \n",
      " \n",
      "   Evaluation time   : 0.05068469047546387 sec    [31.51 %]\n",
      "   Optimization time : 0.11016726493835449 sec    [68.49 %]\n",
      "   Iteration time    : 0.16085195541381836 sec    [15542.24 iter/sec]\n",
      " \n"
     ]
    },
    {
     "name": "stderr",
     "output_type": "stream",
     "text": [
      "                                                                                                                           \r"
     ]
    },
    {
     "name": "stdout",
     "output_type": "stream",
     "text": [
      "\n",
      "Results: 'objective_fxn'  \n",
      "   Best score: -0.00016079504635117098  \n",
      "   Best parameter:\n",
      "      '0' : 0.9888888888888889  \n",
      "      '1' : 1.0050505050605556  \n",
      " \n",
      "   Random seed: 1004449259  \n",
      " \n",
      "   Evaluation time   : 0.040796756744384766 sec    [26.11 %]\n",
      "   Optimization time : 0.11544489860534668 sec    [73.89 %]\n",
      "   Iteration time    : 0.15624165534973145 sec    [16000.85 iter/sec]\n",
      " \n"
     ]
    },
    {
     "name": "stderr",
     "output_type": "stream",
     "text": [
      "                                                                                                                        \r"
     ]
    },
    {
     "name": "stdout",
     "output_type": "stream",
     "text": [
      "\n",
      "Results: 'objective_fxn'  \n",
      "   Best score: -0.0013408570164171335  \n",
      "   Best parameter:\n",
      "      '0' : 0.9666666666666668  \n",
      "      '1' : 1.0171717171818888  \n",
      " \n",
      "   Random seed: 996164924  \n",
      " \n",
      "   Evaluation time   : 0.03717827796936035 sec    [7.71 %]\n",
      "   Optimization time : 0.44495654106140137 sec    [92.29 %]\n",
      "   Iteration time    : 0.4821348190307617 sec    [5185.27 iter/sec]\n",
      " \n"
     ]
    },
    {
     "name": "stderr",
     "output_type": "stream",
     "text": [
      "                                                                                                                         \r"
     ]
    },
    {
     "name": "stdout",
     "output_type": "stream",
     "text": [
      "\n",
      "Results: 'objective_fxn'  \n",
      "   Best score: -0.001395772076277389  \n",
      "   Best parameter:\n",
      "      '0' : 1.0333333333333332  \n",
      "      '1' : 0.980808080817889  \n",
      " \n",
      "   Random seed: 1059375976  \n",
      " \n",
      "   Evaluation time   : 0.05160403251647949 sec    [19.11 %]\n",
      "   Optimization time : 0.21844100952148438 sec    [80.89 %]\n",
      "   Iteration time    : 0.27004504203796387 sec    [9257.71 iter/sec]\n",
      " \n"
     ]
    },
    {
     "name": "stderr",
     "output_type": "stream",
     "text": [
      "                                                                                                                          \r"
     ]
    },
    {
     "name": "stdout",
     "output_type": "stream",
     "text": [
      "\n",
      "Results: 'objective_fxn'  \n",
      "   Best score: -0.020154149659236443  \n",
      "   Best parameter:\n",
      "      '0' : 0.8999999999999999  \n",
      "      '1' : 1.0717171717278888  \n",
      " \n",
      "   Random seed: 943000925  \n",
      " \n",
      "   Evaluation time   : 0.0992887020111084 sec    [48.47 %]\n",
      "   Optimization time : 0.10555195808410645 sec    [51.53 %]\n",
      "   Iteration time    : 0.20484066009521484 sec    [12204.61 iter/sec]\n",
      " \n"
     ]
    },
    {
     "name": "stderr",
     "output_type": "stream",
     "text": [
      "                                                                                                                           \r"
     ]
    },
    {
     "name": "stdout",
     "output_type": "stream",
     "text": [
      "\n",
      "Results: 'objective_fxn'  \n",
      "   Best score: -0.00016079504635117098  \n",
      "   Best parameter:\n",
      "      '0' : 0.9888888888888889  \n",
      "      '1' : 1.0050505050605556  \n",
      " \n",
      "   Random seed: 2050000804  \n",
      " \n",
      "   Evaluation time   : 0.13306164741516113 sec    [32.43 %]\n",
      "   Optimization time : 0.2772974967956543 sec    [67.57 %]\n",
      "   Iteration time    : 0.41035914421081543 sec    [6092.22 iter/sec]\n",
      " \n"
     ]
    },
    {
     "name": "stderr",
     "output_type": "stream",
     "text": [
      "                                                                                                                         \r"
     ]
    },
    {
     "name": "stdout",
     "output_type": "stream",
     "text": [
      "\n",
      "Results: 'objective_fxn'  \n",
      "   Best score: -0.010391994791342021  \n",
      "   Best parameter:\n",
      "      '0' : 1.077777777777778  \n",
      "      '1' : 0.9383838383932223  \n",
      " \n",
      "   Random seed: 1563927897  \n",
      " \n",
      "   Evaluation time   : 0.04651069641113281 sec    [30.41 %]\n",
      "   Optimization time : 0.10641908645629883 sec    [69.59 %]\n",
      "   Iteration time    : 0.15292978286743164 sec    [16347.37 iter/sec]\n",
      " \n"
     ]
    },
    {
     "name": "stderr",
     "output_type": "stream",
     "text": [
      "                                                                                                                           \r"
     ]
    },
    {
     "name": "stdout",
     "output_type": "stream",
     "text": [
      "\n",
      "Results: 'objective_fxn'  \n",
      "   Best score: -0.00016079504635117098  \n",
      "   Best parameter:\n",
      "      '0' : 0.9888888888888889  \n",
      "      '1' : 1.0050505050605556  \n",
      " \n",
      "   Random seed: 1844172912  \n",
      " \n",
      "   Evaluation time   : 0.046680450439453125 sec    [24.28 %]\n",
      "   Optimization time : 0.1456153392791748 sec    [75.72 %]\n",
      "   Iteration time    : 0.19229578971862793 sec    [13000.8 iter/sec]\n",
      " \n"
     ]
    },
    {
     "name": "stderr",
     "output_type": "stream",
     "text": [
      "  6%|▌         | 155/2500 [00:00<00:00, 5564.31it/s, best_iter=155, best_pos=[95 47], best_score=-0.00016578324489769646]/Users/omarjimenez/opt/anaconda3/lib/python3.9/site-packages/gradient_free_optimizers/optimizers/local_opt/simulated_annealing.py:27: RuntimeWarning: overflow encountered in exp\n",
      "  return np.exp(-self._score_norm_default() / self.temp)\n",
      "                                                                                                                           \r"
     ]
    },
    {
     "name": "stdout",
     "output_type": "stream",
     "text": [
      "\n",
      "Results: 'objective_fxn'  \n",
      "   Best score: -0.00016079504635117098  \n",
      "   Best parameter:\n",
      "      '0' : 0.9888888888888889  \n",
      "      '1' : 1.0050505050605556  \n",
      " \n",
      "   Random seed: 1899546252  \n",
      " \n",
      "   Evaluation time   : 0.04697537422180176 sec    [25.28 %]\n",
      "   Optimization time : 0.13882660865783691 sec    [74.72 %]\n",
      "   Iteration time    : 0.18580198287963867 sec    [13455.18 iter/sec]\n",
      " \n"
     ]
    },
    {
     "name": "stderr",
     "output_type": "stream",
     "text": [
      "                                                                                                                           \r"
     ]
    },
    {
     "name": "stdout",
     "output_type": "stream",
     "text": [
      "\n",
      "Results: 'objective_fxn'  \n",
      "   Best score: -0.00016079504635117098  \n",
      "   Best parameter:\n",
      "      '0' : 0.9888888888888889  \n",
      "      '1' : 1.0050505050605556  \n",
      " \n",
      "   Random seed: 1971186147  \n",
      " \n",
      "   Evaluation time   : 0.04583621025085449 sec    [25.63 %]\n",
      "   Optimization time : 0.13301324844360352 sec    [74.37 %]\n",
      "   Iteration time    : 0.178849458694458 sec    [13978.24 iter/sec]\n",
      " \n"
     ]
    },
    {
     "name": "stderr",
     "output_type": "stream",
     "text": [
      "                                                                                                                        \r"
     ]
    },
    {
     "name": "stdout",
     "output_type": "stream",
     "text": [
      "\n",
      "Results: 'objective_fxn'  \n",
      "   Best score: -7.121174190638983  \n",
      "   Best parameter:\n",
      "      '0' : 114.79793747585758  \n",
      "      '1' : 2.3596604989221817  \n",
      "      '2' : -23.119109516492223  \n",
      " \n",
      "   Random seed: 1829895191  \n",
      " \n",
      "   Evaluation time   : 0.13213682174682617 sec    [54.48 %]\n",
      "   Optimization time : 0.11040759086608887 sec    [45.52 %]\n",
      "   Iteration time    : 0.24254441261291504 sec    [10307.39 iter/sec]\n",
      " \n"
     ]
    },
    {
     "name": "stderr",
     "output_type": "stream",
     "text": [
      "                                                                                                                       \r"
     ]
    },
    {
     "name": "stdout",
     "output_type": "stream",
     "text": [
      "\n",
      "Results: 'objective_fxn'  \n",
      "   Best score: -7.2026760127722  \n",
      "   Best parameter:\n",
      "      '0' : 115.26317734404748  \n",
      "      '1' : 2.2896408995476363  \n",
      "      '2' : -21.339004837647778  \n",
      " \n",
      "   Random seed: 1676890370  \n",
      " \n",
      "   Evaluation time   : 0.05353689193725586 sec    [32.02 %]\n",
      "   Optimization time : 0.11366009712219238 sec    [67.98 %]\n",
      "   Iteration time    : 0.16719698905944824 sec    [14952.42 iter/sec]\n",
      " \n"
     ]
    },
    {
     "name": "stderr",
     "output_type": "stream",
     "text": [
      "                                                                                                                       \r"
     ]
    },
    {
     "name": "stdout",
     "output_type": "stream",
     "text": [
      "\n",
      "Results: 'objective_fxn'  \n",
      "   Best score: -10.411177139879126  \n",
      "   Best parameter:\n",
      "      '0' : 115.03055740995254  \n",
      "      '1' : 2.3083127927141818  \n",
      "      '2' : -22.051046709185556  \n",
      " \n",
      "   Random seed: 727363346  \n",
      " \n",
      "   Evaluation time   : 0.05479264259338379 sec    [4.55 %]\n",
      "   Optimization time : 1.150691032409668 sec    [95.45 %]\n",
      "   Iteration time    : 1.2054836750030518 sec    [2073.86 iter/sec]\n",
      " \n"
     ]
    },
    {
     "name": "stderr",
     "output_type": "stream",
     "text": [
      "                                                                                                                           \r"
     ]
    },
    {
     "name": "stdout",
     "output_type": "stream",
     "text": [
      "\n",
      "Results: 'objective_fxn'  \n",
      "   Best score: -7.025654938394128  \n",
      "   Best parameter:\n",
      "      '0' : 115.03055740995254  \n",
      "      '1' : 2.3269846858807273  \n",
      "      '2' : -22.407067644954445  \n",
      " \n",
      "   Random seed: 1409127901  \n",
      " \n",
      "   Evaluation time   : 0.08582067489624023 sec    [28.54 %]\n",
      "   Optimization time : 0.21491789817810059 sec    [71.46 %]\n",
      "   Iteration time    : 0.3007385730743408 sec    [8312.87 iter/sec]\n",
      " \n"
     ]
    },
    {
     "name": "stderr",
     "output_type": "stream",
     "text": [
      "                                                                                                                       \r"
     ]
    },
    {
     "name": "stdout",
     "output_type": "stream",
     "text": [
      "\n",
      "Results: 'objective_fxn'  \n",
      "   Best score: -10.411177139879126  \n",
      "   Best parameter:\n",
      "      '0' : 115.03055740995254  \n",
      "      '1' : 2.3083127927141818  \n",
      "      '2' : -22.051046709185556  \n",
      " \n",
      "   Random seed: 1372489408  \n",
      " \n",
      "   Evaluation time   : 0.18385601043701172 sec    [61.69 %]\n",
      "   Optimization time : 0.11418294906616211 sec    [38.31 %]\n",
      "   Iteration time    : 0.29803895950317383 sec    [8388.17 iter/sec]\n",
      " \n"
     ]
    },
    {
     "name": "stderr",
     "output_type": "stream",
     "text": [
      "                                                                                                                         \r"
     ]
    },
    {
     "name": "stdout",
     "output_type": "stream",
     "text": [
      "\n",
      "Results: 'objective_fxn'  \n",
      "   Best score: -7.144714941519709  \n",
      "   Best parameter:\n",
      "      '0' : 115.26317734404748  \n",
      "      '1' : 2.298976846130909  \n",
      "      '2' : -21.962041475243335  \n",
      " \n",
      "   Random seed: 13518410  \n",
      " \n",
      "   Evaluation time   : 0.05756044387817383 sec    [25.39 %]\n",
      "   Optimization time : 0.16915607452392578 sec    [74.61 %]\n",
      "   Iteration time    : 0.2267165184020996 sec    [11026.99 iter/sec]\n",
      " \n"
     ]
    },
    {
     "name": "stderr",
     "output_type": "stream",
     "text": [
      "                                                                                                                         \r"
     ]
    },
    {
     "name": "stdout",
     "output_type": "stream",
     "text": [
      "\n",
      "Results: 'objective_fxn'  \n",
      "   Best score: -7.537072249616557  \n",
      "   Best parameter:\n",
      "      '0' : 115.26317734404748  \n",
      "      '1' : 2.303644819422545  \n",
      "      '2' : -22.051046709185556  \n",
      " \n",
      "   Random seed: 810564151  \n",
      " \n",
      "   Evaluation time   : 0.051401376724243164 sec    [33.6 %]\n",
      "   Optimization time : 0.10157299041748047 sec    [66.4 %]\n",
      "   Iteration time    : 0.15297436714172363 sec    [16342.61 iter/sec]\n",
      " \n"
     ]
    },
    {
     "name": "stderr",
     "output_type": "stream",
     "text": [
      "                                                                                                                         \r"
     ]
    },
    {
     "name": "stdout",
     "output_type": "stream",
     "text": [
      "\n",
      "Results: 'objective_fxn'  \n",
      "   Best score: -7.033588728486075  \n",
      "   Best parameter:\n",
      "      '0' : 115.03055740995254  \n",
      "      '1' : 2.3269846858807273  \n",
      "      '2' : -22.451570261925557  \n",
      " \n",
      "   Random seed: 1870046348  \n",
      " \n",
      "   Evaluation time   : 0.12766289710998535 sec    [44.77 %]\n",
      "   Optimization time : 0.15748977661132812 sec    [55.23 %]\n",
      "   Iteration time    : 0.2851526737213135 sec    [8767.23 iter/sec]\n",
      " \n"
     ]
    },
    {
     "name": "stderr",
     "output_type": "stream",
     "text": [
      "  5%|▌         | 130/2500 [00:00<00:00, 5929.05it/s, best_iter=130, best_pos=[48 60 28], best_score=-7.194702956396599]/Users/omarjimenez/opt/anaconda3/lib/python3.9/site-packages/gradient_free_optimizers/optimizers/local_opt/simulated_annealing.py:27: RuntimeWarning: overflow encountered in exp\n",
      "  return np.exp(-self._score_norm_default() / self.temp)\n",
      "                                                                                                                        \r"
     ]
    },
    {
     "name": "stdout",
     "output_type": "stream",
     "text": [
      "\n",
      "Results: 'objective_fxn'  \n",
      "   Best score: -7.121174190638983  \n",
      "   Best parameter:\n",
      "      '0' : 114.79793747585758  \n",
      "      '1' : 2.3596604989221817  \n",
      "      '2' : -23.119109516492223  \n",
      " \n",
      "   Random seed: 635071554  \n",
      " \n",
      "   Evaluation time   : 0.12296819686889648 sec    [49.23 %]\n",
      "   Optimization time : 0.12680816650390625 sec    [50.77 %]\n",
      "   Iteration time    : 0.24977636337280273 sec    [10008.95 iter/sec]\n",
      " \n"
     ]
    },
    {
     "name": "stderr",
     "output_type": "stream",
     "text": [
      "                                                                                                                        \r"
     ]
    },
    {
     "name": "stdout",
     "output_type": "stream",
     "text": [
      "\n",
      "Results: 'objective_fxn'  \n",
      "   Best score: -7.305509751102391  \n",
      "   Best parameter:\n",
      "      '0' : 114.56531754176264  \n",
      "      '1' : 2.3923363119636365  \n",
      "      '2' : -23.875654005001113  \n",
      " \n",
      "   Random seed: 1111900237  \n",
      " \n",
      "   Evaluation time   : 0.1310408115386963 sec    [50.53 %]\n",
      "   Optimization time : 0.1282949447631836 sec    [49.47 %]\n",
      "   Iteration time    : 0.2593357563018799 sec    [9640.01 iter/sec]\n",
      " \n"
     ]
    },
    {
     "name": "stderr",
     "output_type": "stream",
     "text": [
      "                                                                                                                   \r"
     ]
    },
    {
     "name": "stdout",
     "output_type": "stream",
     "text": [
      "\n",
      "Results: 'objective_fxn'  \n",
      "   Best score: 1.03056479545801  \n",
      "   Best parameter:\n",
      "      '0' : -0.10000000000000009  \n",
      "      '1' : 0.7222222222222221  \n",
      " \n",
      "   Random seed: 2054526677  \n",
      " \n",
      "   Evaluation time   : 0.04783201217651367 sec    [30.5 %]\n",
      "   Optimization time : 0.10901665687561035 sec    [69.5 %]\n",
      "   Iteration time    : 0.15684866905212402 sec    [15938.93 iter/sec]\n",
      " \n"
     ]
    },
    {
     "name": "stderr",
     "output_type": "stream",
     "text": [
      "                                                                                                                     \r"
     ]
    },
    {
     "name": "stdout",
     "output_type": "stream",
     "text": [
      "\n",
      "Results: 'objective_fxn'  \n",
      "   Best score: 1.0305647954580095  \n",
      "   Best parameter:\n",
      "      '0' : 0.09999999999999987  \n",
      "      '1' : -0.7222222222222223  \n",
      " \n",
      "   Random seed: 1769370467  \n",
      " \n",
      "   Evaluation time   : 0.03731727600097656 sec    [25.49 %]\n",
      "   Optimization time : 0.10908055305480957 sec    [74.51 %]\n",
      "   Iteration time    : 0.14639782905578613 sec    [17076.76 iter/sec]\n",
      " \n"
     ]
    },
    {
     "name": "stderr",
     "output_type": "stream",
     "text": [
      "                                                                                                                    \r"
     ]
    },
    {
     "name": "stdout",
     "output_type": "stream",
     "text": [
      "\n",
      "Results: 'objective_fxn'  \n",
      "   Best score: 1.0305647954580095  \n",
      "   Best parameter:\n",
      "      '0' : 0.09999999999999987  \n",
      "      '1' : -0.7222222222222223  \n",
      " \n",
      "   Random seed: 2034252277  \n",
      " \n",
      "   Evaluation time   : 0.0360417366027832 sec    [7.82 %]\n",
      "   Optimization time : 0.42490077018737793 sec    [92.18 %]\n",
      "   Iteration time    : 0.46094250679016113 sec    [5423.67 iter/sec]\n",
      " \n"
     ]
    },
    {
     "name": "stderr",
     "output_type": "stream",
     "text": [
      "                                                                                                                        \r"
     ]
    },
    {
     "name": "stdout",
     "output_type": "stream",
     "text": [
      "\n",
      "Results: 'objective_fxn'  \n",
      "   Best score: 1.0305647954580095  \n",
      "   Best parameter:\n",
      "      '0' : 0.09999999999999987  \n",
      "      '1' : -0.7222222222222223  \n",
      " \n",
      "   Random seed: 1182598758  \n",
      " \n",
      "   Evaluation time   : 0.0469207763671875 sec    [18.28 %]\n",
      "   Optimization time : 0.20981860160827637 sec    [81.72 %]\n",
      "   Iteration time    : 0.25673937797546387 sec    [9737.5 iter/sec]\n",
      " \n"
     ]
    },
    {
     "name": "stderr",
     "output_type": "stream",
     "text": [
      "                                                                                                                      \r"
     ]
    },
    {
     "name": "stdout",
     "output_type": "stream",
     "text": [
      "\n",
      "Results: 'objective_fxn'  \n",
      "   Best score: 1.0087565228758537  \n",
      "   Best parameter:\n",
      "      '0' : 0.14444444444444438  \n",
      "      '1' : -0.6777777777777778  \n",
      " \n",
      "   Random seed: 923171234  \n",
      " \n",
      "   Evaluation time   : 0.12103867530822754 sec    [43.06 %]\n",
      "   Optimization time : 0.160064697265625 sec    [56.94 %]\n",
      "   Iteration time    : 0.28110337257385254 sec    [8893.53 iter/sec]\n",
      " \n"
     ]
    },
    {
     "name": "stderr",
     "output_type": "stream",
     "text": [
      "                                                                                                                      \r"
     ]
    },
    {
     "name": "stdout",
     "output_type": "stream",
     "text": [
      "\n",
      "Results: 'objective_fxn'  \n",
      "   Best score: 1.0305647954580095  \n",
      "   Best parameter:\n",
      "      '0' : 0.09999999999999987  \n",
      "      '1' : -0.7222222222222223  \n",
      " \n",
      "   Random seed: 1996562285  \n",
      " \n",
      "   Evaluation time   : 0.07706689834594727 sec    [21.66 %]\n",
      "   Optimization time : 0.27867603302001953 sec    [78.34 %]\n",
      "   Iteration time    : 0.3557429313659668 sec    [7027.55 iter/sec]\n",
      " \n"
     ]
    },
    {
     "name": "stderr",
     "output_type": "stream",
     "text": [
      "                                                                                                                     \r"
     ]
    },
    {
     "name": "stdout",
     "output_type": "stream",
     "text": [
      "\n",
      "Results: 'objective_fxn'  \n",
      "   Best score: 0.959357373243063  \n",
      "   Best parameter:\n",
      "      '0' : 0.07777777777777772  \n",
      "      '1' : -0.6111111111111112  \n",
      " \n",
      "   Random seed: 2026279270  \n",
      " \n",
      "   Evaluation time   : 0.045770883560180664 sec    [28.27 %]\n",
      "   Optimization time : 0.11614608764648438 sec    [71.73 %]\n",
      "   Iteration time    : 0.16191697120666504 sec    [15440.01 iter/sec]\n",
      " \n"
     ]
    },
    {
     "name": "stderr",
     "output_type": "stream",
     "text": [
      "                                                                                                                   \r"
     ]
    },
    {
     "name": "stdout",
     "output_type": "stream",
     "text": [
      "\n",
      "Results: 'objective_fxn'  \n",
      "   Best score: 1.03056479545801  \n",
      "   Best parameter:\n",
      "      '0' : -0.10000000000000009  \n",
      "      '1' : 0.7222222222222221  \n",
      " \n",
      "   Random seed: 1316783532  \n",
      " \n",
      "   Evaluation time   : 0.04421877861022949 sec    [23.67 %]\n",
      "   Optimization time : 0.14262795448303223 sec    [76.33 %]\n",
      "   Iteration time    : 0.18684673309326172 sec    [13379.95 iter/sec]\n",
      " \n"
     ]
    },
    {
     "name": "stderr",
     "output_type": "stream",
     "text": [
      "  3%|▎         | 86/2500 [00:00<00:00, 4925.31it/s, best_iter=86, best_pos=[54 17], best_score=1.0305647954580095] /Users/omarjimenez/opt/anaconda3/lib/python3.9/site-packages/gradient_free_optimizers/optimizers/local_opt/simulated_annealing.py:27: RuntimeWarning: overflow encountered in exp\n",
      "  return np.exp(-self._score_norm_default() / self.temp)\n",
      "                                                                                                                     \r"
     ]
    },
    {
     "name": "stdout",
     "output_type": "stream",
     "text": [
      "\n",
      "Results: 'objective_fxn'  \n",
      "   Best score: 1.0305647954580095  \n",
      "   Best parameter:\n",
      "      '0' : 0.09999999999999987  \n",
      "      '1' : -0.7222222222222223  \n",
      " \n",
      "   Random seed: 1350612437  \n",
      " \n",
      "   Evaluation time   : 0.0731661319732666 sec    [36.54 %]\n",
      "   Optimization time : 0.1270618438720703 sec    [63.46 %]\n",
      "   Iteration time    : 0.20022797584533691 sec    [12485.77 iter/sec]\n",
      " \n"
     ]
    },
    {
     "name": "stderr",
     "output_type": "stream",
     "text": [
      "                                                                                                                    \r"
     ]
    },
    {
     "name": "stdout",
     "output_type": "stream",
     "text": [
      "\n",
      "Results: 'objective_fxn'  \n",
      "   Best score: 1.03056479545801  \n",
      "   Best parameter:\n",
      "      '0' : -0.10000000000000009  \n",
      "      '1' : 0.7222222222222221  \n",
      " \n",
      "   Random seed: 1861478047  \n",
      " \n",
      "   Evaluation time   : 0.04382133483886719 sec    [25.3 %]\n",
      "   Optimization time : 0.12940168380737305 sec    [74.7 %]\n",
      "   Iteration time    : 0.17322301864624023 sec    [14432.26 iter/sec]\n",
      " \n"
     ]
    },
    {
     "name": "stderr",
     "output_type": "stream",
     "text": [
      "                                                                                                                         \r"
     ]
    },
    {
     "name": "stdout",
     "output_type": "stream",
     "text": [
      "\n",
      "Results: 'objective_fxn'  \n",
      "   Best score: -7.464103225192455  \n",
      "   Best parameter:\n",
      "      '0' : 1.9979797980497271  \n",
      "      '1' : 1.1535341741698484  \n",
      "      '2' : 1e-08  \n",
      " \n",
      "   Random seed: 1312891625  \n",
      " \n",
      "   Evaluation time   : 0.11838173866271973 sec    [48.1 %]\n",
      "   Optimization time : 0.12775778770446777 sec    [51.9 %]\n",
      "   Iteration time    : 0.2461395263671875 sec    [10156.84 iter/sec]\n",
      " \n"
     ]
    },
    {
     "name": "stderr",
     "output_type": "stream",
     "text": [
      "                                                                                                                        \r"
     ]
    },
    {
     "name": "stdout",
     "output_type": "stream",
     "text": [
      "\n",
      "Results: 'objective_fxn'  \n",
      "   Best score: -7.465871587904018  \n",
      "   Best parameter:\n",
      "      '0' : 2.066666666739  \n",
      "      '1' : 1.193190556295  \n",
      "      '2' : 1e-08  \n",
      " \n",
      "   Random seed: 1079407248  \n",
      " \n",
      "   Evaluation time   : 0.05475759506225586 sec    [29.61 %]\n",
      "   Optimization time : 0.13019633293151855 sec    [70.39 %]\n",
      "   Iteration time    : 0.18495392799377441 sec    [13516.88 iter/sec]\n",
      " \n"
     ]
    },
    {
     "name": "stderr",
     "output_type": "stream",
     "text": [
      "                                                                                                                        \r"
     ]
    },
    {
     "name": "stdout",
     "output_type": "stream",
     "text": [
      "\n",
      "Results: 'objective_fxn'  \n",
      "   Best score: -7.464103225192455  \n",
      "   Best parameter:\n",
      "      '0' : 1.9979797980497271  \n",
      "      '1' : 1.1535341741698484  \n",
      "      '2' : 1e-08  \n",
      " \n",
      "   Random seed: 2105143424  \n",
      " \n",
      "   Evaluation time   : 0.04628419876098633 sec    [9.86 %]\n",
      "   Optimization time : 0.4233357906341553 sec    [90.14 %]\n",
      "   Iteration time    : 0.4696199893951416 sec    [5323.45 iter/sec]\n",
      " \n"
     ]
    },
    {
     "name": "stderr",
     "output_type": "stream",
     "text": [
      "                                                                                                                         \r"
     ]
    },
    {
     "name": "stdout",
     "output_type": "stream",
     "text": [
      "\n",
      "Results: 'objective_fxn'  \n",
      "   Best score: -7.464103225192455  \n",
      "   Best parameter:\n",
      "      '0' : 1.9979797980497271  \n",
      "      '1' : 1.1535341741698484  \n",
      "      '2' : 1e-08  \n",
      " \n",
      "   Random seed: 1163548669  \n",
      " \n",
      "   Evaluation time   : 0.06145882606506348 sec    [22.48 %]\n",
      "   Optimization time : 0.21194839477539062 sec    [77.52 %]\n",
      "   Iteration time    : 0.2734072208404541 sec    [9143.87 iter/sec]\n",
      " \n"
     ]
    },
    {
     "name": "stderr",
     "output_type": "stream",
     "text": [
      "                                                                                                                          \r"
     ]
    },
    {
     "name": "stdout",
     "output_type": "stream",
     "text": [
      "\n",
      "Results: 'objective_fxn'  \n",
      "   Best score: -7.4687090587928004  \n",
      "   Best parameter:\n",
      "      '0' : 1.8929292929955455  \n",
      "      '1' : 1.2165178398980303  \n",
      "      '2' : 1e-08  \n",
      " \n",
      "   Random seed: 1094557606  \n",
      " \n",
      "   Evaluation time   : 0.159804105758667 sec    [53.92 %]\n",
      "   Optimization time : 0.13657712936401367 sec    [46.08 %]\n",
      "   Iteration time    : 0.29638123512268066 sec    [8435.08 iter/sec]\n",
      " \n"
     ]
    },
    {
     "name": "stderr",
     "output_type": "stream",
     "text": [
      "                                                                                                                   \r"
     ]
    },
    {
     "name": "stdout",
     "output_type": "stream",
     "text": [
      "\n",
      "Results: 'objective_fxn'  \n",
      "   Best score: -7.479082819063401  \n",
      "   Best parameter:\n",
      "      '0' : 1.800000000063  \n",
      "      '1' : 1.039230484515  \n",
      "      '2' : 1e-08  \n",
      " \n",
      "   Random seed: 710600597  \n",
      " \n",
      "   Evaluation time   : 0.1011507511138916 sec    [27.22 %]\n",
      "   Optimization time : 0.27040553092956543 sec    [72.78 %]\n",
      "   Iteration time    : 0.37155628204345703 sec    [6728.46 iter/sec]\n",
      " \n"
     ]
    },
    {
     "name": "stderr",
     "output_type": "stream",
     "text": [
      "                                                                                                                        \r"
     ]
    },
    {
     "name": "stdout",
     "output_type": "stream",
     "text": [
      "\n",
      "Results: 'objective_fxn'  \n",
      "   Best score: -7.466705165790258  \n",
      "   Best parameter:\n",
      "      '0' : 1.925252525319909  \n",
      "      '1' : 1.0975486935225758  \n",
      "      '2' : 1e-08  \n",
      " \n",
      "   Random seed: 486594251  \n",
      " \n",
      "   Evaluation time   : 0.05737042427062988 sec    [34.21 %]\n",
      "   Optimization time : 0.1103212833404541 sec    [65.79 %]\n",
      "   Iteration time    : 0.16769170761108398 sec    [14908.31 iter/sec]\n",
      " \n"
     ]
    },
    {
     "name": "stderr",
     "output_type": "stream",
     "text": [
      "                                                                                                                        \r"
     ]
    },
    {
     "name": "stdout",
     "output_type": "stream",
     "text": [
      "\n",
      "Results: 'objective_fxn'  \n",
      "   Best score: -7.464103225192455  \n",
      "   Best parameter:\n",
      "      '0' : 1.9979797980497271  \n",
      "      '1' : 1.1535341741698484  \n",
      "      '2' : 1e-08  \n",
      " \n",
      "   Random seed: 1711279986  \n",
      " \n",
      "   Evaluation time   : 0.10671329498291016 sec    [36.74 %]\n",
      "   Optimization time : 0.18375658988952637 sec    [63.26 %]\n",
      "   Iteration time    : 0.2904698848724365 sec    [8606.74 iter/sec]\n",
      " \n"
     ]
    },
    {
     "name": "stderr",
     "output_type": "stream",
     "text": [
      " 11%|█         | 278/2500 [00:00<00:00, 5372.80it/s, best_iter=278, best_pos=[50 50  0], best_score=-7.4641032266730925]/Users/omarjimenez/opt/anaconda3/lib/python3.9/site-packages/gradient_free_optimizers/optimizers/local_opt/simulated_annealing.py:27: RuntimeWarning: overflow encountered in exp\n",
      "  return np.exp(-self._score_norm_default() / self.temp)\n",
      "                                                                                                                        \r"
     ]
    },
    {
     "name": "stdout",
     "output_type": "stream",
     "text": [
      "\n",
      "Results: 'objective_fxn'  \n",
      "   Best score: -7.464103225192455  \n",
      "   Best parameter:\n",
      "      '0' : 1.9979797980497271  \n",
      "      '1' : 1.1535341741698484  \n",
      "      '2' : 1e-08  \n",
      " \n",
      "   Random seed: 1383598253  \n",
      " \n",
      "   Evaluation time   : 0.11253571510314941 sec    [43.27 %]\n",
      "   Optimization time : 0.1475358009338379 sec    [56.73 %]\n",
      "   Iteration time    : 0.2600715160369873 sec    [9612.74 iter/sec]\n",
      " \n"
     ]
    },
    {
     "name": "stderr",
     "output_type": "stream",
     "text": [
      "                                                                                                                        \r"
     ]
    },
    {
     "name": "stdout",
     "output_type": "stream",
     "text": [
      "\n",
      "Results: 'objective_fxn'  \n",
      "   Best score: -7.464103225192455  \n",
      "   Best parameter:\n",
      "      '0' : 1.9979797980497271  \n",
      "      '1' : 1.1535341741698484  \n",
      "      '2' : 1e-08  \n",
      " \n",
      "   Random seed: 1162476277  \n",
      " \n",
      "   Evaluation time   : 0.1131904125213623 sec    [43.92 %]\n",
      "   Optimization time : 0.1445293426513672 sec    [56.08 %]\n",
      "   Iteration time    : 0.2577197551727295 sec    [9700.46 iter/sec]\n",
      " \n"
     ]
    },
    {
     "name": "stderr",
     "output_type": "stream",
     "text": [
      "                                                                                                                       \r"
     ]
    },
    {
     "name": "stdout",
     "output_type": "stream",
     "text": [
      "\n",
      "Results: 'objective_fxn'  \n",
      "   Best score: 3.861185093045191  \n",
      "   Best parameter:\n",
      "      '0' : 0.11111111111111112  \n",
      "      '1' : 0.5555555555555556  \n",
      "      '2' : 0.8484848484848485  \n",
      " \n",
      "   Random seed: 621932281  \n",
      " \n",
      "   Evaluation time   : 0.17263150215148926 sec    [56.07 %]\n",
      "   Optimization time : 0.13525700569152832 sec    [43.93 %]\n",
      "   Iteration time    : 0.3078885078430176 sec    [8119.82 iter/sec]\n",
      " \n"
     ]
    },
    {
     "name": "stderr",
     "output_type": "stream",
     "text": [
      "                                                                                                                        \r"
     ]
    },
    {
     "name": "stdout",
     "output_type": "stream",
     "text": [
      "\n",
      "Results: 'objective_fxn'  \n",
      "   Best score: 3.784166973138541  \n",
      "   Best parameter:\n",
      "      '0' : 0.48484848484848486  \n",
      "      '1' : 0.5555555555555556  \n",
      "      '2' : 0.8585858585858587  \n",
      " \n",
      "   Random seed: 2064852532  \n",
      " \n",
      "   Evaluation time   : 0.060307979583740234 sec    [33.49 %]\n",
      "   Optimization time : 0.11977052688598633 sec    [66.51 %]\n",
      "   Iteration time    : 0.18007850646972656 sec    [13882.83 iter/sec]\n",
      " \n"
     ]
    },
    {
     "name": "stderr",
     "output_type": "stream",
     "text": [
      "                                                                                                                        \r"
     ]
    },
    {
     "name": "stdout",
     "output_type": "stream",
     "text": [
      "\n",
      "Results: 'objective_fxn'  \n",
      "   Best score: 3.0851671029887475  \n",
      "   Best parameter:\n",
      "      '0' : 0.10101010101010102  \n",
      "      '1' : 0.8484848484848485  \n",
      "      '2' : 0.5656565656565657  \n",
      " \n",
      "   Random seed: 1514091138  \n",
      " \n",
      "   Evaluation time   : 0.050423383712768555 sec    [11.04 %]\n",
      "   Optimization time : 0.4064035415649414 sec    [88.96 %]\n",
      "   Iteration time    : 0.45682692527770996 sec    [5472.53 iter/sec]\n",
      " \n"
     ]
    },
    {
     "name": "stderr",
     "output_type": "stream",
     "text": [
      "                                                                                                                           \r"
     ]
    },
    {
     "name": "stdout",
     "output_type": "stream",
     "text": [
      "\n",
      "Results: 'objective_fxn'  \n",
      "   Best score: 3.861185093045191  \n",
      "   Best parameter:\n",
      "      '0' : 0.11111111111111112  \n",
      "      '1' : 0.5555555555555556  \n",
      "      '2' : 0.8484848484848485  \n",
      " \n",
      "   Random seed: 28757465  \n",
      " \n",
      "   Evaluation time   : 0.09136176109313965 sec    [30.39 %]\n",
      "   Optimization time : 0.20925235748291016 sec    [69.61 %]\n",
      "   Iteration time    : 0.3006141185760498 sec    [8316.31 iter/sec]\n",
      " \n"
     ]
    },
    {
     "name": "stderr",
     "output_type": "stream",
     "text": [
      "                                                                                                                      \r"
     ]
    },
    {
     "name": "stdout",
     "output_type": "stream",
     "text": [
      "\n",
      "Results: 'objective_fxn'  \n",
      "   Best score: 2.2637674699647024  \n",
      "   Best parameter:\n",
      "      '0' : 0.37373737373737376  \n",
      "      '1' : 0.7575757575757577  \n",
      "      '2' : 0.9292929292929294  \n",
      " \n",
      "   Random seed: 822460114  \n",
      " \n",
      "   Evaluation time   : 0.23067045211791992 sec    [66.99 %]\n",
      "   Optimization time : 0.11364603042602539 sec    [33.01 %]\n",
      "   Iteration time    : 0.3443164825439453 sec    [7260.76 iter/sec]\n",
      " \n"
     ]
    },
    {
     "name": "stderr",
     "output_type": "stream",
     "text": [
      "                                                                                                                         \r"
     ]
    },
    {
     "name": "stdout",
     "output_type": "stream",
     "text": [
      "\n",
      "Results: 'objective_fxn'  \n",
      "   Best score: 3.8415271740347228  \n",
      "   Best parameter:\n",
      "      '0' : 0.2828282828282829  \n",
      "      '1' : 0.5454545454545455  \n",
      "      '2' : 0.8484848484848485  \n",
      " \n",
      "   Random seed: 337800273  \n",
      " \n",
      "   Evaluation time   : 0.16194844245910645 sec    [36.52 %]\n",
      "   Optimization time : 0.2814931869506836 sec    [63.48 %]\n",
      "   Iteration time    : 0.44344162940979004 sec    [5637.72 iter/sec]\n",
      " \n"
     ]
    },
    {
     "name": "stderr",
     "output_type": "stream",
     "text": [
      "                                                                                                                         \r"
     ]
    },
    {
     "name": "stdout",
     "output_type": "stream",
     "text": [
      "\n",
      "Results: 'objective_fxn'  \n",
      "   Best score: 3.8316002973218275  \n",
      "   Best parameter:\n",
      "      '0' : 0.33333333333333337  \n",
      "      '1' : 0.5555555555555556  \n",
      "      '2' : 0.8585858585858587  \n",
      " \n",
      "   Random seed: 2028523352  \n",
      " \n",
      "   Evaluation time   : 0.05488181114196777 sec    [34.62 %]\n",
      "   Optimization time : 0.10365152359008789 sec    [65.38 %]\n",
      "   Iteration time    : 0.15853333473205566 sec    [15769.55 iter/sec]\n",
      " \n"
     ]
    },
    {
     "name": "stderr",
     "output_type": "stream",
     "text": [
      "                                                                                                                       \r"
     ]
    },
    {
     "name": "stdout",
     "output_type": "stream",
     "text": [
      "\n",
      "Results: 'objective_fxn'  \n",
      "   Best score: 3.861185093045191  \n",
      "   Best parameter:\n",
      "      '0' : 0.11111111111111112  \n",
      "      '1' : 0.5555555555555556  \n",
      "      '2' : 0.8484848484848485  \n",
      " \n",
      "   Random seed: 450461838  \n",
      " \n",
      "   Evaluation time   : 0.14235615730285645 sec    [45.81 %]\n",
      "   Optimization time : 0.16841673851013184 sec    [54.19 %]\n",
      "   Iteration time    : 0.3107728958129883 sec    [8044.46 iter/sec]\n",
      " \n"
     ]
    },
    {
     "name": "stderr",
     "output_type": "stream",
     "text": [
      "                                                                                                                         \r"
     ]
    },
    {
     "name": "stdout",
     "output_type": "stream",
     "text": [
      "\n",
      "Results: 'objective_fxn'  \n",
      "   Best score: 3.7114167490743557  \n",
      "   Best parameter:\n",
      "      '0' : 0.4747474747474748  \n",
      "      '1' : 0.5050505050505051  \n",
      "      '2' : 0.8484848484848485  \n",
      " \n",
      "   Random seed: 248801452  \n",
      " \n",
      "   Evaluation time   : 0.2328038215637207 sec    [62.12 %]\n",
      "   Optimization time : 0.14197778701782227 sec    [37.88 %]\n",
      "   Iteration time    : 0.37478160858154297 sec    [6670.55 iter/sec]\n",
      " \n"
     ]
    },
    {
     "name": "stderr",
     "output_type": "stream",
     "text": [
      "                                                                                                                       \r"
     ]
    },
    {
     "name": "stdout",
     "output_type": "stream",
     "text": [
      "\n",
      "Results: 'objective_fxn'  \n",
      "   Best score: 3.861185093045191  \n",
      "   Best parameter:\n",
      "      '0' : 0.11111111111111112  \n",
      "      '1' : 0.5555555555555556  \n",
      "      '2' : 0.8484848484848485  \n",
      " \n",
      "   Random seed: 1659907637  \n",
      " \n",
      "   Evaluation time   : 0.17989706993103027 sec    [53.46 %]\n",
      "   Optimization time : 0.15660738945007324 sec    [46.54 %]\n",
      "   Iteration time    : 0.3365044593811035 sec    [7429.32 iter/sec]\n",
      " \n"
     ]
    },
    {
     "name": "stderr",
     "output_type": "stream",
     "text": [
      "                                                                                                                               \r"
     ]
    },
    {
     "name": "stdout",
     "output_type": "stream",
     "text": [
      "\n",
      "Results: 'objective_fxn'  \n",
      "   Best score: -0.005606494772899933  \n",
      "   Best parameter:\n",
      "      '0' : 0.9444444585858586  \n",
      "      '1' : 0.8  \n",
      "      '2' : 0.6444444858585858  \n",
      "      '3' : 0.41111117373737377  \n",
      " \n",
      "   Random seed: 1110729877  \n",
      " \n",
      "   Evaluation time   : 0.13446640968322754 sec    [49.93 %]\n",
      "   Optimization time : 0.13484740257263184 sec    [50.07 %]\n",
      "   Iteration time    : 0.2693138122558594 sec    [9282.85 iter/sec]\n",
      " \n"
     ]
    },
    {
     "name": "stderr",
     "output_type": "stream",
     "text": [
      "                                                                                                                               \r"
     ]
    },
    {
     "name": "stdout",
     "output_type": "stream",
     "text": [
      "\n",
      "Results: 'objective_fxn'  \n",
      "   Best score: -0.005688961619798978  \n",
      "   Best parameter:\n",
      "      '0' : 0.9444444585858586  \n",
      "      '1' : 0.8  \n",
      "      '2' : 0.655555595959596  \n",
      "      '3' : 0.43333339393939396  \n",
      " \n",
      "   Random seed: 1778447488  \n",
      " \n",
      "   Evaluation time   : 0.062404632568359375 sec    [33.27 %]\n",
      "   Optimization time : 0.12518024444580078 sec    [66.73 %]\n",
      "   Iteration time    : 0.18758487701416016 sec    [13327.3 iter/sec]\n",
      " \n"
     ]
    },
    {
     "name": "stderr",
     "output_type": "stream",
     "text": [
      "                                                                                                                              \r"
     ]
    },
    {
     "name": "stdout",
     "output_type": "stream",
     "text": [
      "\n",
      "Results: 'objective_fxn'  \n",
      "   Best score: -0.005688961619798978  \n",
      "   Best parameter:\n",
      "      '0' : 0.9444444585858586  \n",
      "      '1' : 0.8  \n",
      "      '2' : 0.655555595959596  \n",
      "      '3' : 0.43333339393939396  \n",
      " \n",
      "   Random seed: 1270808784  \n",
      " \n",
      "   Evaluation time   : 0.0547795295715332 sec    [13.93 %]\n",
      "   Optimization time : 0.3385660648345947 sec    [86.07 %]\n",
      "   Iteration time    : 0.39334559440612793 sec    [6355.73 iter/sec]\n",
      " \n"
     ]
    },
    {
     "name": "stderr",
     "output_type": "stream",
     "text": [
      "                                                                                                                                  \r"
     ]
    },
    {
     "name": "stdout",
     "output_type": "stream",
     "text": [
      "\n",
      "Results: 'objective_fxn'  \n",
      "   Best score: -0.013480326632534265  \n",
      "   Best parameter:\n",
      "      '0' : 0.9222222383838384  \n",
      "      '1' : 0.7030303151515152  \n",
      "      '2' : 0.4777778343434344  \n",
      "      '3' : 0.24444452222222224  \n",
      " \n",
      "   Random seed: 2042258990  \n",
      " \n",
      "   Evaluation time   : 0.09852933883666992 sec    [27.95 %]\n",
      "   Optimization time : 0.25400590896606445 sec    [72.05 %]\n",
      "   Iteration time    : 0.3525352478027344 sec    [7091.49 iter/sec]\n",
      " \n"
     ]
    },
    {
     "name": "stderr",
     "output_type": "stream",
     "text": [
      "                                                                                                                           \r"
     ]
    },
    {
     "name": "stdout",
     "output_type": "stream",
     "text": [
      "\n",
      "Results: 'objective_fxn'  \n",
      "   Best score: -0.36903391382541695  \n",
      "   Best parameter:\n",
      "      '0' : 0.544444494949495  \n",
      "      '1' : 0.3959596464646465  \n",
      "      '2' : 0.544444494949495  \n",
      "      '3' : 0.544444494949495  \n",
      " \n",
      "   Random seed: 1236833673  \n",
      " \n",
      "   Evaluation time   : 0.13341546058654785 sec    [50.91 %]\n",
      "   Optimization time : 0.12865948677062988 sec    [49.09 %]\n",
      "   Iteration time    : 0.26207494735717773 sec    [9539.26 iter/sec]\n",
      " \n"
     ]
    },
    {
     "name": "stderr",
     "output_type": "stream",
     "text": [
      "                                                                                                                               \r"
     ]
    },
    {
     "name": "stdout",
     "output_type": "stream",
     "text": [
      "\n",
      "Results: 'objective_fxn'  \n",
      "   Best score: -0.008824950370528929  \n",
      "   Best parameter:\n",
      "      '0' : 0.9222222383838384  \n",
      "      '1' : 0.7595959646464646  \n",
      "      '2' : 0.555555605050505  \n",
      "      '3' : 0.3111111828282829  \n",
      " \n",
      "   Random seed: 1131217021  \n",
      " \n",
      "   Evaluation time   : 0.09431672096252441 sec    [25.77 %]\n",
      "   Optimization time : 0.27164697647094727 sec    [74.23 %]\n",
      "   Iteration time    : 0.3659636974334717 sec    [6831.28 iter/sec]\n",
      " \n"
     ]
    },
    {
     "name": "stderr",
     "output_type": "stream",
     "text": [
      "                                                                                                                              \r"
     ]
    },
    {
     "name": "stdout",
     "output_type": "stream",
     "text": [
      "\n",
      "Results: 'objective_fxn'  \n",
      "   Best score: -0.07149109007472082  \n",
      "   Best parameter:\n",
      "      '0' : 0.9333333484848485  \n",
      "      '1' : 0.7595959646464646  \n",
      "      '2' : 1.0222222292929295  \n",
      "      '3' : 1.0444444494949496  \n",
      " \n",
      "   Random seed: 1851916055  \n",
      " \n",
      "   Evaluation time   : 0.05771374702453613 sec    [35.62 %]\n",
      "   Optimization time : 0.10433149337768555 sec    [64.38 %]\n",
      "   Iteration time    : 0.16204524040222168 sec    [15427.79 iter/sec]\n",
      " \n"
     ]
    },
    {
     "name": "stderr",
     "output_type": "stream",
     "text": [
      "                                                                                                                                \r"
     ]
    },
    {
     "name": "stdout",
     "output_type": "stream",
     "text": [
      "\n",
      "Results: 'objective_fxn'  \n",
      "   Best score: -0.0056063676637402304  \n",
      "   Best parameter:\n",
      "      '0' : 0.9444444585858586  \n",
      "      '1' : 0.8  \n",
      "      '2' : 0.6333333757575758  \n",
      "      '3' : 0.40000006363636365  \n",
      " \n",
      "   Random seed: 1936627434  \n",
      " \n",
      "   Evaluation time   : 0.11165046691894531 sec    [40.09 %]\n",
      "   Optimization time : 0.16687989234924316 sec    [59.91 %]\n",
      "   Iteration time    : 0.2785303592681885 sec    [8975.68 iter/sec]\n",
      " \n"
     ]
    },
    {
     "name": "stderr",
     "output_type": "stream",
     "text": [
      "  9%|▉         | 223/2500 [00:00<00:00, 4982.23it/s, best_iter=223, best_pos=[85 99 59 39], best_score=-0.005688961619798978] /Users/omarjimenez/opt/anaconda3/lib/python3.9/site-packages/gradient_free_optimizers/optimizers/local_opt/simulated_annealing.py:27: RuntimeWarning: overflow encountered in exp\n",
      "  return np.exp(-self._score_norm_default() / self.temp)\n",
      "                                                                                                                               \r"
     ]
    },
    {
     "name": "stdout",
     "output_type": "stream",
     "text": [
      "\n",
      "Results: 'objective_fxn'  \n",
      "   Best score: -0.0056063676637402304  \n",
      "   Best parameter:\n",
      "      '0' : 0.9444444585858586  \n",
      "      '1' : 0.8  \n",
      "      '2' : 0.6333333757575758  \n",
      "      '3' : 0.40000006363636365  \n",
      " \n",
      "   Random seed: 293007982  \n",
      " \n",
      "   Evaluation time   : 0.13576197624206543 sec    [46.75 %]\n",
      "   Optimization time : 0.15465354919433594 sec    [53.25 %]\n",
      "   Iteration time    : 0.29041552543640137 sec    [8608.36 iter/sec]\n",
      " \n"
     ]
    },
    {
     "name": "stderr",
     "output_type": "stream",
     "text": [
      "                                                                                                                               \r"
     ]
    },
    {
     "name": "stdout",
     "output_type": "stream",
     "text": [
      "\n",
      "Results: 'objective_fxn'  \n",
      "   Best score: -0.005624370129231749  \n",
      "   Best parameter:\n",
      "      '0' : 0.9444444585858586  \n",
      "      '1' : 0.8  \n",
      "      '2' : 0.6444444858585858  \n",
      "      '3' : 0.4222222838383839  \n",
      " \n",
      "   Random seed: 404170090  \n",
      " \n",
      "   Evaluation time   : 0.1362292766571045 sec    [47.29 %]\n",
      "   Optimization time : 0.15182113647460938 sec    [52.71 %]\n",
      "   Iteration time    : 0.28805041313171387 sec    [8679.04 iter/sec]\n",
      " \n"
     ]
    }
   ],
   "source": [
    "from gradient_free_optimizers import EnsembleOptimizer\n",
    "from gradient_free_optimizers import RandomSearchOptimizer,RandomRestartHillClimbingOptimizer,RandomAnnealingOptimizer,PatternSearch,PowellsMethod,GridSearchOptimizer\n",
    "from gradient_free_optimizers import HillClimbingOptimizer,StochasticHillClimbingOptimizer,RepulsingHillClimbingOptimizer,SimulatedAnnealingOptimizer,DownhillSimplexOptimizer\n",
    "from gradient_free_optimizers import ParallelTemperingOptimizer,ParticleSwarmOptimizer,EvolutionStrategyOptimizer,SpiralOptimization\n",
    "from gradient_free_optimizers import ForestOptimizer,BayesianOptimizer,TreeStructuredParzenEstimators,LipschitzOptimizer,DirectAlgorithm\n",
    "\n",
    "names = list(bcp.keys())\n",
    "all_initial_guesses, valid_problems, invalid_problems = get_all_initial_guesses(names)\n",
    "# These problems don't give any issues (and potentially a few others)\n",
    "problems = ['BeckerLago', 'AluffiPentini', 'trigobj', 'concha10', 'Hosaki', 'cube', 'denschnc', 'draperg', 'ex8_1_5', 'fermat_vareps',\n",
    "            'Hartman3', 'hatfldb']\n",
    "solvers = [RandomRestartHillClimbingOptimizer,RandomAnnealingOptimizer,PatternSearch,PowellsMethod,GridSearchOptimizer,\n",
    "           DirectAlgorithm, ParticleSwarmOptimizer, EvolutionStrategyOptimizer, SimulatedAnnealingOptimizer, StochasticHillClimbingOptimizer]\n",
    "solver_names = get_solver_names(solvers)\n",
    "solver_solutions = get_solutions(problems, solvers, all_initial_guesses)\n",
    "taus = [1e-1, 1e-2, 1e-4, 1e-6, 0e+0]\n",
    "solver_refinement = evaluate_refinement(problems, solver_names, all_initial_guesses, solver_solutions, valid_problems, invalid_problems, taus)\n",
    "plot_dict = get_plot_dict(problems, solver_refinement, solver_names, taus)"
   ]
  },
  {
   "cell_type": "code",
   "execution_count": 5,
   "metadata": {},
   "outputs": [
    {
     "data": {
      "image/png": "[encoded data removed]",
      "text/plain": [
       "<Figure size 640x480 with 1 Axes>"
      ]
     },
     "metadata": {},
     "output_type": "display_data"
    }
   ],
   "source": [
    "import matplotlib.pyplot as plt\n",
    "\n",
    "fig, ax = plt.subplots()\n",
    "\n",
    "for label, y in plot_dict.items():\n",
    "    ax.plot(taus, y, 'o-', label=label)\n",
    "\n",
    "ax.set_xlabel('tau')\n",
    "\n",
    "plt.title(f\"Refinement Ability\")\n",
    "ax.invert_xaxis()\n",
    "ax.set_ylabel('Fraction of Problems')\n",
    "ax.legend(loc='center left', bbox_to_anchor=(1, 0.5))\n",
    "\n",
    "plt.show()"
   ]
  }
 ],
 "metadata": {
  "kernelspec": {
   "display_name": "base",
   "language": "python",
   "name": "python3"
  },
  "language_info": {
   "codemirror_mode": {
    "name": "ipython",
    "version": 3
   },
   "file_extension": ".py",
   "mimetype": "text/x-python",
   "name": "python",
   "nbconvert_exporter": "python",
   "pygments_lexer": "ipython3",
   "version": "3.9.13"
  },
  "orig_nbformat": 4,
  "vscode": {
   "interpreter": {
    "hash": "9bc68b10135914b32656fcc41af97ef1b1b393a38252aab1db8935475d18b332"
   }
  }
 },
 "nbformat": 4,
 "nbformat_minor": 2
}
